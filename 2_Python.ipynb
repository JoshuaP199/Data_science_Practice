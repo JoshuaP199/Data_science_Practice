{
 "metadata": {
  "language_info": {
   "codemirror_mode": {
    "name": "ipython",
    "version": 3
   },
   "file_extension": ".py",
   "mimetype": "text/x-python",
   "name": "python",
   "nbconvert_exporter": "python",
   "pygments_lexer": "ipython3",
   "version": "3.6.1-final"
  },
  "orig_nbformat": 2,
  "kernelspec": {
   "name": "Python 3.6.1 64-bit",
   "display_name": "Python 3.6.1 64-bit",
   "metadata": {
    "interpreter": {
     "hash": "d91e8cf5da37e178649d67f5172d212fc824bfda2fb358203aaa45c4578e1c5e"
    }
   }
  }
 },
 "nbformat": 4,
 "nbformat_minor": 2,
 "cells": [
  {
   "cell_type": "code",
   "execution_count": 1,
   "metadata": {},
   "outputs": [],
   "source": [
    "#PYTHON CRASH COURSE"
   ]
  },
  {
   "cell_type": "code",
   "execution_count": 3,
   "metadata": {},
   "outputs": [
    {
     "output_type": "stream",
     "name": "stdout",
     "text": [
      "5\n"
     ]
    }
   ],
   "source": [
    "#can use \\ to indicate that the statement continues on the next line\n",
    "two_plus_three = 2 + \\\n",
    "                 3\n",
    "\n",
    "print(two_plus_three)"
   ]
  },
  {
   "cell_type": "code",
   "execution_count": 4,
   "metadata": {},
   "outputs": [],
   "source": [
    "#STRINGS\n",
    "first_name = \"Joshua\"\n",
    "last_name = \"Perez\"\n",
    "\n",
    "full_name1 = first_name + \" \" + last_name\n",
    "\n",
    "full_name2 = \"{0} {1}\".format(first_name, last_name)\n",
    "\n",
    "full_name3 = f\"{first_name} {last_name}\""
   ]
  },
  {
   "cell_type": "code",
   "execution_count": 5,
   "metadata": {},
   "outputs": [
    {
     "output_type": "stream",
     "name": "stdout",
     "text": [
      "cannot divide by zero\n"
     ]
    }
   ],
   "source": [
    "#EXCEPTIONS \n",
    "try:\n",
    "    print(0/0)\n",
    "except ZeroDivisionError:\n",
    "    print(\"cannot divide by zero\")"
   ]
  },
  {
   "cell_type": "code",
   "execution_count": 6,
   "metadata": {},
   "outputs": [
    {
     "output_type": "stream",
     "name": "stdout",
     "text": [
      "6\n15\n"
     ]
    }
   ],
   "source": [
    "#LISTS\n",
    "integer_list = [0,1,2,3,4,5]\n",
    "herterogeneous_list = [\"string\", 0.1, True]\n",
    "list_of_lists = [integer_list, herterogeneous_list, []]\n",
    "\n",
    "list_length = len(integer_list)\n",
    "list_sum = sum(integer_list)\n",
    "\n",
    "print(list_length)\n",
    "print(list_sum)"
   ]
  },
  {
   "cell_type": "code",
   "execution_count": 7,
   "metadata": {},
   "outputs": [
    {
     "output_type": "stream",
     "name": "stdout",
     "text": [
      "[-1, 1, 2, 3, 4, 5, 6, 7, 8, 9]\n"
     ]
    }
   ],
   "source": [
    "x = [0,1,2,3,4,5,6,7,8,9]\n",
    "\n",
    "zero = x[0]\n",
    "one = x[1]\n",
    "nine = x[-1]\n",
    "eight = x[-2]\n",
    "x[0]= -1\n",
    "\n",
    "print(x)\n",
    "\n",
    "first_three = x[:3]\n",
    "three_to_end = x[3:]\n",
    "one_to_four = x[1:5]\n",
    "last_three = x[-3:]\n",
    "without_first_and_last = x[1:-1]\n",
    "copy_of_x = x[:]\n",
    "\n",
    "every_third = x[::3]\n",
    "five_to_three = x[5:2:-1]\n"
   ]
  },
  {
   "cell_type": "code",
   "execution_count": 8,
   "metadata": {},
   "outputs": [
    {
     "output_type": "stream",
     "name": "stdout",
     "text": [
      "True\nFalse\n[1, 2, 3, 4, 5, 6]\n[1, 2, 3, 4, 5, 6, 7, 8]\n[1, 2, 3, 4, 5, 6, 0]\n0\n7\n1\n2\n2\n"
     ]
    }
   ],
   "source": [
    "x = [1,2,3]\n",
    "print(1 in x)\n",
    "print(0 in x)\n",
    "\n",
    "x.extend([4,5,6])    #modifies the list \n",
    "print(x)\n",
    "\n",
    "y = x + [7,8]        #list addition (doesnt change original list)\n",
    "print(y)\n",
    "\n",
    "x.append(0)\n",
    "y = x[-1]\n",
    "z = len(x)\n",
    "\n",
    "print(x)\n",
    "print(y)\n",
    "print(z)\n",
    "\n",
    "x, y = [1,2]\n",
    "print(x)\n",
    "print(y)\n",
    "\n",
    "_, y = [1,2]\n",
    "print(y)"
   ]
  },
  {
   "cell_type": "code",
   "execution_count": 9,
   "metadata": {},
   "outputs": [
    {
     "output_type": "stream",
     "name": "stdout",
     "text": [
      "cannot modify a tuple\n"
     ]
    }
   ],
   "source": [
    "#TUPLES\n",
    "my_list = [1,2]\n",
    "my_tuple = (1,2)\n",
    "other_tuple = 3,4\n",
    "my_list[1] = 3\n",
    "\n",
    "try:\n",
    "    my_tuple[1]=3\n",
    "except TypeError:\n",
    "    print(\"cannot modify a tuple\")"
   ]
  },
  {
   "cell_type": "code",
   "execution_count": 10,
   "metadata": {},
   "outputs": [
    {
     "output_type": "stream",
     "name": "stdout",
     "text": [
      "(5, 6)\n",
      "15\n",
      "50\n"
     ]
    }
   ],
   "source": [
    "def sum_and_product(x,y):\n",
    "    return (x+y),(x*y)\n",
    "\n",
    "sp = sum_and_product(2,3)\n",
    "s, p = sum_and_product(5,10)    \n",
    "\n",
    "print(sp)\n",
    "print(s)\n",
    "print(p)    "
   ]
  },
  {
   "cell_type": "code",
   "execution_count": 11,
   "metadata": {},
   "outputs": [],
   "source": [
    "x, y = 1, 2 #x is 1, y is 2\n",
    "x, y = y, x #Pythonic way to swap variables; x is 2, y is 1"
   ]
  },
  {
   "cell_type": "code",
   "execution_count": 12,
   "metadata": {},
   "outputs": [
    {
     "output_type": "stream",
     "name": "stdout",
     "text": [
      "no grade for Kate!\nTrue False\n80 0 None\n3\n"
     ]
    }
   ],
   "source": [
    "#DICTIONARIES\n",
    "empty_dict = {}\n",
    "empty_dict2 = dict()\n",
    "grades = {\"Joel\": 80, \"Tim\": 95}\n",
    "\n",
    "joels_grade = grades[\"Joel\"]\n",
    "\n",
    "try:\n",
    "    kates_grade = grades[\"Kate\"]\n",
    "except KeyError:\n",
    "    print(\"no grade for Kate!\")\n",
    "\n",
    "\n",
    "joel_has_grade = \"Joel\" in grades\n",
    "kate_has_grade = \"Kate\" in grades\n",
    "print(joel_has_grade, kate_has_grade)\n",
    "\n",
    "\n",
    "#default value instead of exception\n",
    "joels_grade = grades.get(\"Joel\", 0)\n",
    "kates_grade = grades.get(\"Kate\", 0)\n",
    "no_ones_grade = grades.get(\"No One\")\n",
    "print(joels_grade, kates_grade, no_ones_grade)\n",
    "\n",
    "\n",
    "grades[\"Tim\"] = 99\n",
    "grades[\"Kate\"] = 100\n",
    "num_students = len(grades)\n",
    "print(num_students)"
   ]
  },
  {
   "cell_type": "code",
   "execution_count": 13,
   "metadata": {},
   "outputs": [
    {
     "output_type": "stream",
     "name": "stdout",
     "text": [
      "dict_keys(['user', 'tweet', 'retweet_count', 'hashtags'])\n",
      "dict_values(['joelgrus', 'Data Science is Awesome', 100, ['#data', '#science', '#datascience', '#awesome', '#yolo']])\n",
      "dict_items([('user', 'joelgrus'), ('tweet', 'Data Science is Awesome'), ('retweet_count', 100), ('hashtags', ['#data', '#science', '#datascience', '#awesome', '#yolo'])])\n"
     ]
    }
   ],
   "source": [
    "tweet = {\n",
    "    \"user\" : \"joelgrus\",\n",
    "    \"tweet\" : \"Data Science is Awesome\",\n",
    "    \"retweet_count\" : 100,\n",
    "    \"hashtags\" : [\"#data\", \"#science\", \"#datascience\", \"#awesome\", \"#yolo\"]\n",
    "}\n",
    "\n",
    "tweet_keys = tweet.keys()\n",
    "tweet_values = tweet.values()\n",
    "tweet_items = tweet.items()\n",
    "\n",
    "\"user\" in tweet_keys        #True, but not Pythonic\n",
    "\"user\" in tweet             #Pythonic way of checking for keys\n",
    "\"joelgrus\" in tweet_values  #True (slow but the only way to check)\n",
    "\n",
    "print(tweet_keys)\n",
    "print(tweet_values)\n",
    "print(tweet_items)"
   ]
  },
  {
   "cell_type": "code",
   "execution_count": 14,
   "metadata": {},
   "outputs": [
    {
     "output_type": "execute_result",
     "data": {
      "text/plain": [
       "\"\\nfrom collections import defaultdict\\n#like a regular dictionary, except that when you try to look up a key it doesn't contain, it first adds a value for it using a zero-argument function you provided when you created it\\n\\nword_counts = defaultdict(int)  #int() produces -\\nfor word in document:\\n    word_counts[word] += 1\\n\""
      ]
     },
     "metadata": {},
     "execution_count": 14
    }
   ],
   "source": [
    "\"\"\"\n",
    "from collections import defaultdict\n",
    "#like a regular dictionary, except that when you try to look up a key it doesn't contain, it first adds a value for it using a zero-argument function you provided when you created it\n",
    "\n",
    "word_counts = defaultdict(int)  #int() produces -\n",
    "for word in document:\n",
    "    word_counts[word] += 1\n",
    "\"\"\""
   ]
  },
  {
   "cell_type": "code",
   "execution_count": 15,
   "metadata": {},
   "outputs": [
    {
     "output_type": "execute_result",
     "data": {
      "text/plain": [
       "'\\ndd_list = defaultdict(list)                 #list() produces an empty list\\ndd_list[2].append(1)                        #dd_list onctain {2: [1]}\\n\\ndd_dict = defaultdict(dict)                 #dict() produces an empty dictionary\\ndd_dict = [\"Joel\"][\"City\"] = \"Seattle\"      #{\"Joel\" : {\"City\": \"Seattle\"}}\\n\\ndd_pair = defaultdict(lambda: [0, 0])\\ndd_pair[2][1] = 1                           #now dd_pair contains {2: [0,1]}\\n'"
      ]
     },
     "metadata": {},
     "execution_count": 15
    }
   ],
   "source": [
    "\"\"\"\n",
    "dd_list = defaultdict(list)                 #list() produces an empty list\n",
    "dd_list[2].append(1)                        #dd_list onctain {2: [1]}\n",
    "\n",
    "dd_dict = defaultdict(dict)                 #dict() produces an empty dictionary\n",
    "dd_dict = [\"Joel\"][\"City\"] = \"Seattle\"      #{\"Joel\" : {\"City\": \"Seattle\"}}\n",
    "\n",
    "dd_pair = defaultdict(lambda: [0, 0])\n",
    "dd_pair[2][1] = 1                           #now dd_pair contains {2: [0,1]}\n",
    "\"\"\"\n"
   ]
  },
  {
   "cell_type": "code",
   "execution_count": 16,
   "metadata": {},
   "outputs": [
    {
     "output_type": "execute_result",
     "data": {
      "text/plain": [
       "'\\nword_counts = Counter(document)                     #document is a list of words\\n\\nfor word, count in word_counts.most_common(10):     #print the 10 most common words and their counts\\n    print(word, count)\\n'"
      ]
     },
     "metadata": {},
     "execution_count": 16
    }
   ],
   "source": [
    "#COUNTERS\n",
    "\n",
    "from collections import Counter\n",
    "\n",
    "c = Counter([0,1,2,0])                              #c is {0: 2, 1: 1, 2: 1}\n",
    "\n",
    "\"\"\"\n",
    "word_counts = Counter(document)                     #document is a list of words\n",
    "\n",
    "for word, count in word_counts.most_common(10):     #print the 10 most common words and their counts\n",
    "    print(word, count)\n",
    "\"\"\""
   ]
  },
  {
   "cell_type": "code",
   "execution_count": 17,
   "metadata": {},
   "outputs": [],
   "source": [
    "#SETS\n",
    "primes_below_10 = {2,3,5,7}\n",
    "\n",
    "s = set()\n",
    "s.add(1)        #s is now {1}\n",
    "s.add(2)        #s is now {1, 2}\n",
    "s.add(2)        #s is still {1, 2}\n",
    "x=len(s)        #equals 2\n",
    "y = 2 in s      #TRUE\n",
    "z = 3 in s      #FALSE"
   ]
  },
  {
   "cell_type": "code",
   "execution_count": 18,
   "metadata": {},
   "outputs": [
    {
     "output_type": "execute_result",
     "data": {
      "text/plain": [
       "'\\nstopwords_list = [\"a\", \"an\", \"at\"] + hundreds_of_other_words + [\"yet\", \"you\"]\\n\\n\"zip\" in stopwords_list                #False, but have to check every element\\n\\nstopwords_set = set(stopwords_list)\\n\"zip\" in stopwords_set                  #very fast to check (what you want to do)\\n'"
      ]
     },
     "metadata": {},
     "execution_count": 18
    }
   ],
   "source": [
    "\"\"\"\n",
    "stopwords_list = [\"a\", \"an\", \"at\"] + hundreds_of_other_words + [\"yet\", \"you\"]\n",
    "\n",
    "\"zip\" in stopwords_list                #False, but have to check every element\n",
    "\n",
    "stopwords_set = set(stopwords_list)\n",
    "\"zip\" in stopwords_set                  #very fast to check (what you want to do)\n",
    "\"\"\""
   ]
  },
  {
   "cell_type": "code",
   "execution_count": 19,
   "metadata": {},
   "outputs": [
    {
     "output_type": "stream",
     "name": "stdout",
     "text": [
      "[1, 2, 3]\n"
     ]
    }
   ],
   "source": [
    "item_list = [1,2,3,1,2,3]\n",
    "num_items = len(item_list)          #6\n",
    "item_set = set(item_list)           #{1,2,3}\n",
    "num_distinct_items = len(item_set)  #3\n",
    "#distinct_item_list = list(item_set) #[1,2,3]   'list isnt callable'\n",
    "distinct_item_list = []             \n",
    "for i in item_set:\n",
    "    distinct_item_list.append(i)\n",
    "\n",
    "print(distinct_item_list)"
   ]
  },
  {
   "cell_type": "code",
   "execution_count": 20,
   "metadata": {},
   "outputs": [
    {
     "output_type": "stream",
     "name": "stdout",
     "text": [
      "0 is less than 10\n1 is less than 10\n2 is less than 10\n3 is less than 10\n4 is less than 10\n5 is less than 10\n6 is less than 10\n7 is less than 10\n8 is less than 10\n9 is less than 10\n0 is less than 10\n1 is less than 10\n2 is less than 10\n3 is less than 10\n4 is less than 10\n5 is less than 10\n6 is less than 10\n7 is less than 10\n8 is less than 10\n9 is less than 10\n0\n1\n2\n4\n"
     ]
    }
   ],
   "source": [
    "#CONTROL FLOW\n",
    "parity = \"even\" if x % 2 == 0 else \"odd\"\n",
    "\n",
    "x = 0\n",
    "while x < 10:\n",
    "    print(f\"{x} is less than 10\")\n",
    "    x += 1\n",
    "\n",
    "for x in range(10):                 #Better to use for and in instead of while loops\n",
    "    print(f\"{x} is less than 10\")\n",
    "\n",
    "for x in range(10):\n",
    "    if x == 3:\n",
    "        continue\n",
    "    if x == 5:\n",
    "        break\n",
    "    print(x)\n"
   ]
  },
  {
   "cell_type": "code",
   "execution_count": 21,
   "metadata": {},
   "outputs": [
    {
     "output_type": "stream",
     "name": "stdout",
     "text": [
      "True\nFalse\nTrue\nTrue\nFalse\n"
     ]
    }
   ],
   "source": [
    "#TRUTHINESS\n",
    "\n",
    "x = None\n",
    "assert x == None, \"This is not the Pythonic way to check for None\"\n",
    "assert x is None, \"This is the Pythonic way to check for None\"\n",
    "\n",
    "safe_x = x or 0\n",
    "safe_x = x if x is not None else 0  #more readable\n",
    "\n",
    "#all - every element has to be true, any - at least one element has to be true\n",
    "print(all([True, 1, {3}]))  #all are True\n",
    "print(all([True, 1, {}]))   #{} is False\n",
    "print(any([True, 1, {}]))   #True is True\n",
    "print(all([]))              #no False elements in the list\n",
    "print(any([]))              #no True elements in the list\n"
   ]
  },
  {
   "cell_type": "code",
   "execution_count": 22,
   "metadata": {},
   "outputs": [
    {
     "output_type": "error",
     "ename": "NameError",
     "evalue": "name 'word_counts' is not defined",
     "traceback": [
      "\u001b[1;31m---------------------------------------------------------------------------\u001b[0m",
      "\u001b[1;31mNameError\u001b[0m                                 Traceback (most recent call last)",
      "\u001b[1;32m<ipython-input-22-e3619e947fe9>\u001b[0m in \u001b[0;36m<module>\u001b[1;34m\u001b[0m\n\u001b[0;32m      8\u001b[0m \u001b[1;33m\u001b[0m\u001b[0m\n\u001b[0;32m      9\u001b[0m \u001b[1;31m#Sort the words and counts from highest count to lowest\u001b[0m\u001b[1;33m\u001b[0m\u001b[1;33m\u001b[0m\u001b[0m\n\u001b[1;32m---> 10\u001b[1;33m wc = sorted(word_counts.items(), \n\u001b[0m\u001b[0;32m     11\u001b[0m             \u001b[0mkey\u001b[0m\u001b[1;33m=\u001b[0m\u001b[1;32mlambda\u001b[0m \u001b[0mword_and_count\u001b[0m\u001b[1;33m:\u001b[0m \u001b[0mword_and_count\u001b[0m\u001b[1;33m[\u001b[0m\u001b[1;36m1\u001b[0m\u001b[1;33m]\u001b[0m\u001b[1;33m,\u001b[0m\u001b[1;33m\u001b[0m\u001b[0m\n\u001b[0;32m     12\u001b[0m             reverse = True)\n",
      "\u001b[1;31mNameError\u001b[0m: name 'word_counts' is not defined"
     ]
    }
   ],
   "source": [
    "#SORTING\n",
    "x = [4,1,2,3]\n",
    "y = sorted(x)   #y is a sorted x but x is unchanged\n",
    "x.sort()        #x is now sorted\n",
    "\n",
    "#sort the list by absolute value from largest to smallest\n",
    "x = sorted([-4,1,-2,3], key= abs, reverse = True) \n",
    "\n",
    "#Sort the words and counts from highest count to lowest\n",
    "wc = sorted(word_counts.items(), \n",
    "            key=lambda word_and_count: word_and_count[1], \n",
    "            reverse = True)"
   ]
  },
  {
   "cell_type": "code",
   "execution_count": 23,
   "metadata": {},
   "outputs": [],
   "source": [
    "#LIST COMPREHENSIONS\n",
    "\n",
    "#Transform lists\n",
    "even_numbers = [x for x in range(5) if x % 2 == 0]\n",
    "squares = [x * x for x in range(5)]\n",
    "even_squares = [x * x for x in even_numbers]\n",
    "\n",
    "#list to dictionaries\n",
    "square_dict = {x: x * x for x in range(5)}\n",
    "square_set = {x * x for x in [1, -1]}\n",
    "\n",
    "zeros = [0 for _ in even_numbers]\n",
    "\n",
    "pairs = [(x,y)\n",
    "         for x in range(10)\n",
    "         for y in range(10)]\n",
    "\n",
    "increasing_pairs = [(x,y)\n",
    "                    for x in range(10)\n",
    "                    for y in range(x+1, 10)]"
   ]
  },
  {
   "cell_type": "code",
   "execution_count": 24,
   "metadata": {},
   "outputs": [],
   "source": [
    "#AUTOMATED TESTING AND ASSERT\n",
    "\n",
    "#assert will cause your code to raise an AssertionError if your specified condition is not True\n",
    "assert 1 + 1 == 2\n",
    "assert 1 + 1 == 2, \"1 + 1 should equla 2 but didn't\" #if assertion fails then message will display\n",
    "\n",
    "def smallest_item(xs):\n",
    "    return min(xs)\n",
    "\n",
    "assert smallest_item([10,20,5,40]) == 5\n",
    "assert smallest_item([1,0,-1,2]) == -1\n",
    "\n",
    "#Assert is a good way to test code\n",
    "\n",
    "def smallest_item(xs):\n",
    "    assert xs, \"empty list has no smallest item\"\n",
    "    return min(xs)\n",
    "\n"
   ]
  },
  {
   "cell_type": "code",
   "execution_count": 25,
   "metadata": {},
   "outputs": [],
   "source": [
    "#OBJECT ORIENTED PROGRAMMING\n",
    "\n",
    "class CountingClicker:\n",
    "    \"\"\"A class can/should have a docstring, just like a function\"\"\"\n",
    "    #__init__ takes whatever parameters you need to construct an instance of your class and does wahtever setup you need\n",
    "    def __init__(self, count = 0):  #Magic method\n",
    "        self.count = count\n",
    "    #__repr__ produces the string representation of a class instance\n",
    "    def __repr__(self):\n",
    "        return f\"CountingClicker(count={self.count})\"\n",
    "    #implementation of the public API of our class\n",
    "    def click(self, num_times = 1):\n",
    "        \"\"\"Click the clicker some number of times\"\"\"\n",
    "        self.count += num_times\n",
    "    def read(self):\n",
    "        return self.count\n",
    "    def reset(self):\n",
    "        self.count = 0\n",
    "    \n",
    "\n",
    "clicker1 = CountingClicker()                #initialized to 0\n",
    "clicker2 = CountingClicker(100)             #starts with count = 100\n",
    "clicker3 = CountingClicker(count = 100)     #More explicit way of doing the same\n",
    "\n",
    "clicker = CountingClicker()\n",
    "assert clicker.read() == 0, \"Clicker should start with 0\"\n",
    "clicker.click()\n",
    "clicker.click()\n",
    "assert clicker.read() == 2, \"After two clicks, clicker should have count 2\"\n",
    "clicker.reset()\n",
    "assert clicker.read() == 0, \"After reset, clicker should be back to 0\"\n",
    "\n"
   ]
  },
  {
   "cell_type": "code",
   "execution_count": 26,
   "metadata": {},
   "outputs": [],
   "source": [
    "#A subclass inherits all the behavior of its parent class\n",
    "class NoResetClicker(CountingClicker):\n",
    "    #This class has all the same methods as CountingClicker\n",
    "\n",
    "    #Except that it has a reset method that does nothing\n",
    "    def reset(self):\n",
    "        pass\n",
    "\n",
    "clicker2 = NoResetClicker()\n",
    "assert clicker2.read() == 0\n",
    "clicker2.click()\n",
    "assert clicker2.read() == 1\n",
    "clicker2.reset()\n",
    "assert clicker2.read() == 1, \"reset shouldn't do anything\""
   ]
  },
  {
   "cell_type": "code",
   "execution_count": 27,
   "metadata": {},
   "outputs": [
    {
     "output_type": "stream",
     "name": "stdout",
     "text": [
      "i: 0\ni: 1\ni: 2\ni: 3\ni: 4\ni: 5\ni: 6\ni: 7\ni: 8\ni: 9\n"
     ]
    }
   ],
   "source": [
    "#ITERABLES AND GENERATORS\n",
    "\n",
    "def generate_range(n):\n",
    "    i = 0\n",
    "    while i < n:\n",
    "        yield i     #every call to yield produces a value of the generator\n",
    "        i += 1\n",
    "\n",
    "for i in generate_range(10):\n",
    "    print(f\"i: {i}\")\n",
    "\n",
    "def natural_numbers():\n",
    "    n = 1\n",
    "    while True:\n",
    "        yield n\n",
    "        n += 1\n"
   ]
  },
  {
   "cell_type": "code",
   "execution_count": 28,
   "metadata": {},
   "outputs": [
    {
     "output_type": "stream",
     "name": "stdout",
     "text": [
      "name 0 is Alice\nname 1 is Bob\nname 2 is Charlie\nname 3 is Debbie\nname 0 is Alice\nname 1 is Bob\nname 2 is Charlie\nname 3 is Debbie\nname 0 is Alice\nname 1 is Bob\nname 2 is Charlie\nname 3 is Debbie\n"
     ]
    }
   ],
   "source": [
    "evens_below_20 = (i for i in generate_range(20) if i % 2 == 0)\n",
    "\n",
    "data = natural_numbers()\n",
    "evens = (x for x in data if x % 2 == 0)\n",
    "even_squares = (x ** 2 for x in evens)\n",
    "even_squares_ending_in_six = (x for x in even_squares if x % 10 == 6)\n",
    "#ect.\n",
    "\n",
    "names = [\"Alice\", \"Bob\", \"Charlie\", \"Debbie\"]\n",
    "\n",
    "#not Pythonic\n",
    "for i in range(len(names)):\n",
    "    print(f\"name {i} is {names[i]}\")\n",
    "\n",
    "#also not Pythonic\n",
    "i = 0\n",
    "for name in names:\n",
    "    print(f\"name {i} is {names[i]}\")\n",
    "    i += 1\n",
    "\n",
    "#Pythonic\n",
    "for i, name in enumerate(names):\n",
    "    print(f\"name {i} is {name}\")"
   ]
  },
  {
   "cell_type": "code",
   "execution_count": 29,
   "metadata": {},
   "outputs": [
    {
     "output_type": "stream",
     "name": "stdout",
     "text": [
      "[0.5714025946899135, 0.4288890546751146, 0.5780913011344704, 0.20609823213950174]\n0.5714025946899135\n0.5714025946899135\n"
     ]
    },
    {
     "output_type": "execute_result",
     "data": {
      "text/plain": [
       "4"
      ]
     },
     "metadata": {},
     "execution_count": 29
    }
   ],
   "source": [
    "#RANDOMNESS\n",
    "\n",
    "import random\n",
    "random.seed(10)     #This insures we get the same results every time\n",
    "\n",
    "four_uniform_randoms = [random.random() for _ in range(4)]\n",
    "print(four_uniform_randoms)\n",
    "\n",
    "random.seed(10)\n",
    "print(random.random())\n",
    "random.seed(10)\n",
    "print(random.random())\n",
    "\n",
    "random.randrange(10)    #choose randomly from range(10)\n",
    "random.randrange(3, 6)  #Choose randomly from range(3,6) = [3,4,5]"
   ]
  },
  {
   "cell_type": "code",
   "execution_count": 30,
   "metadata": {},
   "outputs": [
    {
     "output_type": "stream",
     "name": "stdout",
     "text": [
      "[5, 6, 9, 2, 3, 7, 8, 4, 1, 10]\nBob\n[2, 9, 5, 6]\n"
     ]
    }
   ],
   "source": [
    "up_to_ten = [1,2,3,4,5,6,7,8,9,10]\n",
    "random.shuffle(up_to_ten)\n",
    "print(up_to_ten)\n",
    "\n",
    "my_best_friend = random.choice([\"Alice\", \"Bob\", \"Charlie\"])\n",
    "print(my_best_friend)\n",
    "\n",
    "lottery_numbers = range(60)\n",
    "winning_numbers = random.sample(lottery_numbers, 6) \n",
    "\n",
    "four_with_replacement = [random.choice(range(10)) for _ in range(4)]\n",
    "print(four_with_replacement)"
   ]
  },
  {
   "cell_type": "code",
   "execution_count": 31,
   "metadata": {},
   "outputs": [],
   "source": [
    "#REGULAR EXPRESSIONS\n",
    "\n",
    "import re\n",
    "\n",
    "re_examples = [                             #All of these are True, b/c\n",
    "    not re.match(\"a\", \"cat\"),               #'cat' doesn't start with 'a'\n",
    "    re.search(\"a\", \"cat\"),                  #'cat' has an 'a' in it\n",
    "    not re.search(\"c\", \"dog\"),              #'dog' doesn't have a 'c' in it\n",
    "    3 == len(re.split(\"[ab]\", \"carbs\")),    #Split on a or b to ['c','r','s']\n",
    "    \"R-D-\" == re.sub(\"[0-9]\", \"-\", \"R2D2\"),  #Replace digits with dashes\n",
    "]\n",
    "\n",
    "assert all(re_examples), \"all the regex examples should be True\""
   ]
  },
  {
   "cell_type": "code",
   "execution_count": 32,
   "metadata": {},
   "outputs": [
    {
     "output_type": "stream",
     "name": "stdout",
     "text": [
      "[('a', 1), ('b', 2), ('c', 3)]\n('a', 'b', 'c') (1, 2, 3)\nadd expects two inputs\n"
     ]
    },
    {
     "output_type": "execute_result",
     "data": {
      "text/plain": [
       "3"
      ]
     },
     "metadata": {},
     "execution_count": 32
    }
   ],
   "source": [
    "#ZIP AND ARGUMENT UNPACKING\n",
    "\n",
    "list1 = ['a', 'b', 'c']\n",
    "list2 = [1,2,3]\n",
    "\n",
    "pairs = [pair for pair in zip(list1, list2)]    #zips the two lists together\n",
    "print(pairs)\n",
    "\n",
    "letters, numbers = zip(*pairs)                  #unzips the zipped pair, * performs argument unpacking\n",
    "print(letters, numbers)\n",
    "\n",
    "def add(a,b): return a + b\n",
    "\n",
    "add(1,2)\n",
    "try:\n",
    "    add([1,2])\n",
    "except TypeError:\n",
    "    print(\"add expects two inputs\")\n",
    "add(*[1,2])\n"
   ]
  },
  {
   "cell_type": "code",
   "execution_count": 33,
   "metadata": {},
   "outputs": [
    {
     "output_type": "stream",
     "name": "stdout",
     "text": [
      "as defined, g only takes one argument\nunnamed args: (1, 2)\nkeyword args: {'key': 'word', 'key2': 'word2'}\n"
     ]
    }
   ],
   "source": [
    "#ARGS AND KWARGS\n",
    "def doubler(f):\n",
    "    def g(x):\n",
    "        return 2*f(x)\n",
    "    \n",
    "    return g\n",
    "\n",
    "def f1(x):\n",
    "    return x + 1\n",
    "\n",
    "g = doubler(f1)\n",
    "assert g(3) == 8, \"(3+1) * 2 should equal 8\"\n",
    "assert g(-1) == 0, \"(-1 + 1) * 2 should equal 0\"\n",
    "\n",
    "\n",
    "def f2(x, y):\n",
    "    return x + y\n",
    "\n",
    "g = doubler(f2)\n",
    "try:\n",
    "    g(1,2)\n",
    "except TypeError:\n",
    "    print(\"as defined, g only takes one argument\")\n",
    "\n",
    "\n",
    "def magic(*args, **kwargs):\n",
    "    print(\"unnamed args:\", args)\n",
    "    print(\"keyword args:\", kwargs)\n",
    "\n",
    "magic(1,2, key=\"word\", key2 = \"word2\")"
   ]
  },
  {
   "cell_type": "code",
   "execution_count": 34,
   "metadata": {},
   "outputs": [],
   "source": [
    "def other_way_magic(x,y,z):\n",
    "    return x + y + z\n",
    "\n",
    "x_y_list = [1,2]\n",
    "z_dict = {\"z\": 3}\n",
    "assert other_way_magic(*x_y_list, **z_dict) == 6, \"1+2+3 should be 6\""
   ]
  },
  {
   "cell_type": "code",
   "execution_count": 35,
   "metadata": {},
   "outputs": [],
   "source": [
    "def doubler_correct(f):\n",
    "    #Works no matter what kind of inputs f expects\n",
    "    def g(*args, **kwargs):\n",
    "        #whatever arguments g is supplied, pass them through to f\n",
    "        return 2 * f(*args, **kwargs)\n",
    "    return g\n",
    "\n",
    "g = doubler_correct(f2)\n",
    "assert g(1,2) == 6, \"doubler should work now\""
   ]
  },
  {
   "cell_type": "code",
   "execution_count": 36,
   "metadata": {},
   "outputs": [
    {
     "output_type": "stream",
     "name": "stdout",
     "text": [
      "cannot add an int to a string\n"
     ]
    }
   ],
   "source": [
    "#TYPE ANNOTATIONS\n",
    "\n",
    "def add(a,b):\n",
    "    return a+b\n",
    "\n",
    "assert add(10,5) == 15, \"+ is valid for numbers\"\n",
    "assert add([1,2], [3]) == [1,2,3], \"+ is valid for lists\"\n",
    "assert add(\"hi \", \"there\") == \"hi there\", \"+ is valid for strings\"\n",
    "\n",
    "try:\n",
    "    add(10, \"five\")\n",
    "except TypeError:\n",
    "    print(\"cannot add an int to a string\")\n",
    "    "
   ]
  },
  {
   "cell_type": "code",
   "execution_count": 37,
   "metadata": {},
   "outputs": [
    {
     "output_type": "execute_result",
     "data": {
      "text/plain": [
       "'hi there'"
      ]
     },
     "metadata": {},
     "execution_count": 37
    }
   ],
   "source": [
    "def add(a: int, b: int) -> int:\n",
    "    return a + b\n",
    "\n",
    "add(10, 5)              #you'd like this to be ok\n",
    "add(\"hi \", \"there\")     #you'd like this to not be ok"
   ]
  },
  {
   "cell_type": "code",
   "execution_count": 38,
   "metadata": {},
   "outputs": [
    {
     "output_type": "error",
     "ename": "NameError",
     "evalue": "name 'lazy' is not defined",
     "traceback": [
      "\u001b[1;31m---------------------------------------------------------------------------\u001b[0m",
      "\u001b[1;31mNameError\u001b[0m                                 Traceback (most recent call last)",
      "\u001b[1;32m<ipython-input-38-d19d9782418e>\u001b[0m in \u001b[0;36m<module>\u001b[1;34m\u001b[0m\n\u001b[0;32m     20\u001b[0m \u001b[1;33m\u001b[0m\u001b[0m\n\u001b[0;32m     21\u001b[0m \u001b[1;31m#lists and generators are both iterable\u001b[0m\u001b[1;33m\u001b[0m\u001b[1;33m\u001b[0m\u001b[0m\n\u001b[1;32m---> 22\u001b[1;33m \u001b[1;32mif\u001b[0m \u001b[0mlazy\u001b[0m\u001b[1;33m:\u001b[0m\u001b[1;33m\u001b[0m\u001b[0m\n\u001b[0m\u001b[0;32m     23\u001b[0m     \u001b[0mevens\u001b[0m\u001b[1;33m:\u001b[0m \u001b[0mIterable\u001b[0m\u001b[1;33m[\u001b[0m\u001b[0mint\u001b[0m\u001b[1;33m]\u001b[0m \u001b[1;33m=\u001b[0m \u001b[1;33m(\u001b[0m\u001b[0mx\u001b[0m \u001b[1;32mfor\u001b[0m \u001b[0mx\u001b[0m \u001b[1;32min\u001b[0m \u001b[0mrange\u001b[0m\u001b[1;33m(\u001b[0m\u001b[1;36m10\u001b[0m\u001b[1;33m)\u001b[0m \u001b[1;32mif\u001b[0m \u001b[0mx\u001b[0m \u001b[1;33m%\u001b[0m \u001b[1;36m2\u001b[0m \u001b[1;33m==\u001b[0m \u001b[1;36m0\u001b[0m\u001b[1;33m)\u001b[0m\u001b[1;33m\u001b[0m\u001b[0m\n\u001b[0;32m     24\u001b[0m \u001b[1;32melse\u001b[0m\u001b[1;33m:\u001b[0m\u001b[1;33m\u001b[0m\u001b[0m\n",
      "\u001b[1;31mNameError\u001b[0m: name 'lazy' is not defined"
     ]
    }
   ],
   "source": [
    "#HOW TO WRITE TYPE ANNOTATIONS\n",
    "\n",
    "def total(xs: list) -> float:      #want xs to be a list of floats\n",
    "    return sum(total)\n",
    "\n",
    "from typing import List\n",
    "\n",
    "def total(xs: List[float]) -> float:\n",
    "    return sum(total)\n",
    "\n",
    "from typing import Optional\n",
    "\n",
    "values: List[int] = []              #list of int\n",
    "best_so_far: Optional[float] = None #allowed to be iether a float or none\n",
    "\n",
    "from typing import Dict, Iterable, Tuple\n",
    "\n",
    "#keys are strings, values are ints\n",
    "counts: Dict[str, int] = {'data': 1, 'science': 2}\n",
    "\n",
    "#lists and generators are both iterable\n",
    "if lazy:\n",
    "    evens: Iterable[int] = (x for x in range(10) if x % 2 == 0)\n",
    "else:\n",
    "    evens = [0,2,4,6,8]\n",
    "\n",
    "#Tuples specify a type for each element\n",
    "triple: Tuple[int, float, int] = (10, 2.3, 5)\n",
    "\n"
   ]
  },
  {
   "cell_type": "code",
   "execution_count": null,
   "metadata": {},
   "outputs": [],
   "source": [
    "from typing import Callable\n",
    "\n",
    "#the type hint says that repeater is a function that takes two arguments, a string and a int and returns a string\n",
    "def twice(repeater: Callable[[str, int], str], s: str) -> str:\n",
    "    return repeater(s, 2)\n",
    "\n",
    "def comma_repeater(s: str, n:int) -> str:\n",
    "    n_copies = [s for _ in range(n)]\n",
    "    return \", \".join(n_copies)\n",
    "\n",
    "assert twice(comma_repeater, \"type hints\") == \"type hints, type hints\""
   ]
  },
  {
   "cell_type": "code",
   "execution_count": null,
   "metadata": {},
   "outputs": [],
   "source": [
    "Number = int\n",
    "Numbers = List[Number]\n",
    "\n",
    "def total(xs: Numbers) -> Number:\n",
    "    return sum(xs)"
   ]
  }
 ]
}