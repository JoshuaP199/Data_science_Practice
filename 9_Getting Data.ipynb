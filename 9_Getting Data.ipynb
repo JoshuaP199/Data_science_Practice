{
 "metadata": {
  "language_info": {
   "codemirror_mode": {
    "name": "ipython",
    "version": 3
   },
   "file_extension": ".py",
   "mimetype": "text/x-python",
   "name": "python",
   "nbconvert_exporter": "python",
   "pygments_lexer": "ipython3",
   "version": "3.6.1-final"
  },
  "orig_nbformat": 2,
  "kernelspec": {
   "name": "Python 3.6.1 64-bit",
   "display_name": "Python 3.6.1 64-bit",
   "metadata": {
    "interpreter": {
     "hash": "d91e8cf5da37e178649d67f5172d212fc824bfda2fb358203aaa45c4578e1c5e"
    }
   }
  }
 },
 "nbformat": 4,
 "nbformat_minor": 2,
 "cells": [
  {
   "cell_type": "code",
   "execution_count": 1,
   "metadata": {},
   "outputs": [],
   "source": [
    "#Getting Data"
   ]
  },
  {
   "cell_type": "code",
   "execution_count": 2,
   "metadata": {},
   "outputs": [],
   "source": [
    "#stdin and stdout\n",
    "\n",
    "#Here is a script that reads in lines of text and spits back out the ones that match a regular expression\n",
    "\n",
    "#egrep.py, this is built into Unix systems as a command line tool\n",
    "import sys, re\n",
    "\n",
    "#sys.argv is the list of command line arguments\n",
    "#sys.argv[0] is the name of the program itself\n",
    "#sys.argv[1] will be the regex specified at the command line\n",
    "regex = sys.argv[1]\n",
    "\n",
    "#for every line passed into the script\n",
    "for line in sys.stdin:\n",
    "    #if it matches the regex, write it to stdout\n",
    "    if re.search(regex, line):\n",
    "        sys.stdout.write(line)\n"
   ]
  },
  {
   "cell_type": "code",
   "execution_count": 3,
   "metadata": {},
   "outputs": [
    {
     "output_type": "stream",
     "name": "stdout",
     "text": [
      "0\n"
     ]
    }
   ],
   "source": [
    "#Here is a script that counts the lines it receives and then writes out the count\n",
    "\n",
    "#line_count.py\n",
    "import sys\n",
    "\n",
    "count = 0\n",
    "for line in sys.stdin:\n",
    "    count += 1\n",
    "\n",
    "#print goes to sys.stdout\n",
    "print(count)"
   ]
  },
  {
   "cell_type": "code",
   "execution_count": 4,
   "metadata": {},
   "outputs": [
    {
     "output_type": "error",
     "ename": "SyntaxError",
     "evalue": "invalid syntax (<ipython-input-4-7d442a9c1f88>, line 2)",
     "traceback": [
      "\u001b[1;36m  File \u001b[1;32m\"<ipython-input-4-7d442a9c1f88>\"\u001b[1;36m, line \u001b[1;32m2\u001b[0m\n\u001b[1;33m    type SomeFile.txt | python egrep.py \"[0-9]\" | python line_count.py\u001b[0m\n\u001b[1;37m                ^\u001b[0m\n\u001b[1;31mSyntaxError\u001b[0m\u001b[1;31m:\u001b[0m invalid syntax\n"
     ]
    }
   ],
   "source": [
    "#Windows with command prompt\n",
    "type SomeFile.txt | python egrep.py \"[0-9]\" | python line_count.py\n",
    "\n",
    "#for Unix systems\n",
    "cat SomeFile.txt | python egrep.py\"[0-9]\" | python line_count.py\n",
    "\n",
    "# the pip character -> | , means \"use the output of the left command as the input of the right command\""
   ]
  },
  {
   "cell_type": "code",
   "execution_count": 5,
   "metadata": {},
   "outputs": [
    {
     "output_type": "stream",
     "name": "stderr",
     "text": [
      "ERROR:root:Internal Python error in the inspect module.\n",
      "Below is the traceback from this internal error.\n",
      "\n",
      "usage: most_common_words.py num_words\n",
      "Traceback (most recent call last):\n",
      "  File \"<ipython-input-5-992776ebc3f7>\", line 9, in <module>\n",
      "    num_words = int(sys.argv[1])\n",
      "ValueError: invalid literal for int() with base 10: '--ip=127.0.0.1'\n",
      "\n",
      "During handling of the above exception, another exception occurred:\n",
      "\n",
      "Traceback (most recent call last):\n",
      "  File \"C:\\Users\\joshp\\AppData\\Roaming\\Python\\Python36\\site-packages\\IPython\\core\\interactiveshell.py\", line 3331, in run_code\n",
      "    exec(code_obj, self.user_global_ns, self.user_ns)\n",
      "  File \"<ipython-input-5-992776ebc3f7>\", line 12, in <module>\n",
      "    sys.exit(1)     #nonzero exit code indicates error\n",
      "SystemExit: 1\n",
      "\n",
      "During handling of the above exception, another exception occurred:\n",
      "\n",
      "Traceback (most recent call last):\n",
      "  File \"C:\\Users\\joshp\\AppData\\Roaming\\Python\\Python36\\site-packages\\IPython\\core\\ultratb.py\", line 1148, in get_records\n",
      "    return _fixed_getinnerframes(etb, number_of_lines_of_context, tb_offset)\n",
      "  File \"C:\\Users\\joshp\\AppData\\Roaming\\Python\\Python36\\site-packages\\IPython\\core\\ultratb.py\", line 316, in wrapped\n",
      "    return f(*args, **kwargs)\n",
      "  File \"C:\\Users\\joshp\\AppData\\Roaming\\Python\\Python36\\site-packages\\IPython\\core\\ultratb.py\", line 350, in _fixed_getinnerframes\n",
      "    records = fix_frame_records_filenames(inspect.getinnerframes(etb, context))\n",
      "  File \"C:\\Users\\joshp\\AppData\\Roaming\\Python\\Python36\\lib\\inspect.py\", line 1453, in getinnerframes\n",
      "    frameinfo = (tb.tb_frame,) + getframeinfo(tb, context)\n",
      "AttributeError: 'tuple' object has no attribute 'tb_frame'\n"
     ]
    },
    {
     "output_type": "error",
     "ename": "SystemExit",
     "evalue": "1",
     "traceback": [
      "An exception has occurred, use %tb to see the full traceback.\n",
      "\u001b[1;31m---------------------------------------------------------------------------\u001b[0m",
      "\nDuring handling of the above exception, another exception occurred:\n",
      "\u001b[1;31mSystemExit\u001b[0m\u001b[1;31m:\u001b[0m 1\n"
     ]
    }
   ],
   "source": [
    "#Here is a script that counts the words in its input and writes out the most common ones\n",
    "\n",
    "#most_common_words.py\n",
    "import sys\n",
    "from collections import Counter\n",
    "\n",
    "#pass in number of words as first argument\n",
    "try:\n",
    "    num_words = int(sys.argv[1])\n",
    "except:\n",
    "    print(\"usage: most_common_words.py num_words\")\n",
    "    sys.exit(1)     #nonzero exit code indicates error\n",
    "\n",
    "counter = Counter(word.lower()                      #lowercase words\n",
    "                for line in sys.stdin               \n",
    "                for word in line.strip().split      #split on spaces\n",
    "                if word())                          #skip empty 'words'\n",
    "\n",
    "for word, count in counter.most_common(num_words):\n",
    "    sys.stdout.write(str(count))\n",
    "    sys.stdout.write(\"\\t\")\n",
    "    sys.stdout.write(word)\n",
    "    sys.stdout.write(\"\\n\")\n",
    "\n",
    "#type the_bible.txt | python most_common_words.py 10"
   ]
  },
  {
   "cell_type": "code",
   "execution_count": 6,
   "metadata": {},
   "outputs": [
    {
     "output_type": "error",
     "ename": "FileNotFoundError",
     "evalue": "[Errno 2] No such file or directory: 'reading_file.txt'",
     "traceback": [
      "\u001b[1;31m---------------------------------------------------------------------------\u001b[0m",
      "\u001b[1;31mFileNotFoundError\u001b[0m                         Traceback (most recent call last)",
      "\u001b[1;32m<ipython-input-6-d3a67e1d952f>\u001b[0m in \u001b[0;36m<module>\u001b[1;34m\u001b[0m\n\u001b[0;32m      4\u001b[0m \u001b[1;33m\u001b[0m\u001b[0m\n\u001b[0;32m      5\u001b[0m \u001b[1;31m#'r' means read-only, it's assumed if you leave it out\u001b[0m\u001b[1;33m\u001b[0m\u001b[1;33m\u001b[0m\u001b[0m\n\u001b[1;32m----> 6\u001b[1;33m \u001b[0mfile_for_reading\u001b[0m \u001b[1;33m=\u001b[0m \u001b[0mopen\u001b[0m\u001b[1;33m(\u001b[0m\u001b[1;34m'reading_file.txt'\u001b[0m\u001b[1;33m,\u001b[0m \u001b[1;34m'r'\u001b[0m\u001b[1;33m)\u001b[0m\u001b[1;33m\u001b[0m\u001b[0m\n\u001b[0m\u001b[0;32m      7\u001b[0m \u001b[0mfile_for_reading2\u001b[0m \u001b[1;33m=\u001b[0m \u001b[0mopen\u001b[0m\u001b[1;33m(\u001b[0m\u001b[1;34m'reading_file.txt'\u001b[0m\u001b[1;33m)\u001b[0m\u001b[1;33m\u001b[0m\u001b[0m\n\u001b[0;32m      8\u001b[0m \u001b[1;33m\u001b[0m\u001b[0m\n",
      "\u001b[1;31mFileNotFoundError\u001b[0m: [Errno 2] No such file or directory: 'reading_file.txt'"
     ]
    }
   ],
   "source": [
    "#Reading Files\n",
    "\n",
    "#The Basics of Text Files\n",
    "\n",
    "#'r' means read-only, it's assumed if you leave it out\n",
    "file_for_reading = open('reading_file.txt', 'r')\n",
    "file_for_reading2 = open('reading_file.txt')\n",
    "\n",
    "#'w' is write -- wile destroy the file if it already exists\n",
    "file_for_writing = open('writing_file.txt')\n",
    "\n",
    "#'a' is append -- for adding to the end of the file\n",
    "file_for_appending = open('appending_file.txt', 'a')\n",
    "\n",
    "#don't forget to close your files when you're done\n",
    "file_for_writing.close()\n",
    "\n",
    "#with will close the files automatically at the end\n",
    "with open(filename) as f:\n",
    "    data = function_that_gets_data_from(f)\n",
    "\n",
    "#at this point f has already been closed, so don't try to use it\n",
    "process(data)"
   ]
  },
  {
   "cell_type": "code",
   "execution_count": 7,
   "metadata": {},
   "outputs": [
    {
     "output_type": "error",
     "ename": "FileNotFoundError",
     "evalue": "[Errno 2] No such file or directory: 'input.txt'",
     "traceback": [
      "\u001b[1;31m---------------------------------------------------------------------------\u001b[0m",
      "\u001b[1;31mFileNotFoundError\u001b[0m                         Traceback (most recent call last)",
      "\u001b[1;32m<ipython-input-7-d9d86e9b5d6a>\u001b[0m in \u001b[0;36m<module>\u001b[1;34m\u001b[0m\n\u001b[0;32m      3\u001b[0m \u001b[0mstarts_with_hash\u001b[0m \u001b[1;33m=\u001b[0m \u001b[1;36m0\u001b[0m\u001b[1;33m\u001b[0m\u001b[0m\n\u001b[0;32m      4\u001b[0m \u001b[1;33m\u001b[0m\u001b[0m\n\u001b[1;32m----> 5\u001b[1;33m \u001b[1;32mwith\u001b[0m \u001b[0mopen\u001b[0m\u001b[1;33m(\u001b[0m\u001b[1;34m'input.txt'\u001b[0m\u001b[1;33m)\u001b[0m \u001b[1;32mas\u001b[0m \u001b[0mf\u001b[0m\u001b[1;33m:\u001b[0m\u001b[1;33m\u001b[0m\u001b[0m\n\u001b[0m\u001b[0;32m      6\u001b[0m     \u001b[1;32mfor\u001b[0m \u001b[0mline\u001b[0m \u001b[1;32min\u001b[0m \u001b[0mf\u001b[0m\u001b[1;33m:\u001b[0m                 \u001b[1;31m#look at each line in the file\u001b[0m\u001b[1;33m\u001b[0m\u001b[0m\n\u001b[0;32m      7\u001b[0m         \u001b[1;32mif\u001b[0m \u001b[0mre\u001b[0m\u001b[1;33m.\u001b[0m\u001b[0mmatch\u001b[0m\u001b[1;33m(\u001b[0m\u001b[1;34m'^#'\u001b[0m\u001b[1;33m,\u001b[0m \u001b[0mline\u001b[0m\u001b[1;33m)\u001b[0m\u001b[1;33m:\u001b[0m   \u001b[1;31m#use a regex to see if it starts with '#'\u001b[0m\u001b[1;33m\u001b[0m\u001b[0m\n",
      "\u001b[1;31mFileNotFoundError\u001b[0m: [Errno 2] No such file or directory: 'input.txt'"
     ]
    }
   ],
   "source": [
    "#To read through a whole txt file\n",
    "\n",
    "starts_with_hash = 0\n",
    "\n",
    "with open('input.txt') as f:\n",
    "    for line in f:                 #look at each line in the file\n",
    "        if re.match('^#', line):   #use a regex to see if it starts with '#'\n",
    "            starts_with_hash += 1  #if it does, add 1 to count"
   ]
  },
  {
   "cell_type": "code",
   "execution_count": 8,
   "metadata": {},
   "outputs": [
    {
     "output_type": "error",
     "ename": "FileNotFoundError",
     "evalue": "[Errno 2] No such file or directory: 'email_address.txt'",
     "traceback": [
      "\u001b[1;31m---------------------------------------------------------------------------\u001b[0m",
      "\u001b[1;31mFileNotFoundError\u001b[0m                         Traceback (most recent call last)",
      "\u001b[1;32m<ipython-input-8-528cbe319998>\u001b[0m in \u001b[0;36m<module>\u001b[1;34m\u001b[0m\n\u001b[0;32m      9\u001b[0m \u001b[1;32mfrom\u001b[0m \u001b[0mcollections\u001b[0m \u001b[1;32mimport\u001b[0m \u001b[0mCounter\u001b[0m\u001b[1;33m\u001b[0m\u001b[0m\n\u001b[0;32m     10\u001b[0m \u001b[1;33m\u001b[0m\u001b[0m\n\u001b[1;32m---> 11\u001b[1;33m \u001b[1;32mwith\u001b[0m \u001b[0mopen\u001b[0m\u001b[1;33m(\u001b[0m\u001b[1;34m'email_address.txt'\u001b[0m\u001b[1;33m,\u001b[0m \u001b[1;34m'r'\u001b[0m\u001b[1;33m)\u001b[0m \u001b[1;32mas\u001b[0m \u001b[0mf\u001b[0m\u001b[1;33m:\u001b[0m\u001b[1;33m\u001b[0m\u001b[0m\n\u001b[0m\u001b[0;32m     12\u001b[0m     domain_counts = Counter(get_domain(line.strip())\n\u001b[0;32m     13\u001b[0m                             \u001b[1;32mfor\u001b[0m \u001b[0mline\u001b[0m \u001b[1;32min\u001b[0m \u001b[0mf\u001b[0m\u001b[1;33m\u001b[0m\u001b[0m\n",
      "\u001b[1;31mFileNotFoundError\u001b[0m: [Errno 2] No such file or directory: 'email_address.txt'"
     ]
    }
   ],
   "source": [
    "def get_domain(email_address: str) -> str:\n",
    "    \"\"\"Split on '@' and return the last piece\"\"\"\n",
    "    return email_address.lower().split(\"@\")[-1]\n",
    "\n",
    "#a couple of tests\n",
    "assert get_domain('joelgrus@gmail.com') == 'gmail.com'\n",
    "assert get_domain('joel@m.datasciencester.com') == 'm.datasciencester.com'\n",
    "\n",
    "from collections import Counter\n",
    "\n",
    "with open('email_address.txt', 'r') as f:\n",
    "    domain_counts = Counter(get_domain(line.strip())\n",
    "                            for line in f\n",
    "                            if \"@\" in line)"
   ]
  },
  {
   "cell_type": "code",
   "execution_count": 9,
   "metadata": {},
   "outputs": [
    {
     "output_type": "error",
     "ename": "FileNotFoundError",
     "evalue": "[Errno 2] No such file or directory: 'tab_delimited_stock_price.txt'",
     "traceback": [
      "\u001b[1;31m---------------------------------------------------------------------------\u001b[0m",
      "\u001b[1;31mFileNotFoundError\u001b[0m                         Traceback (most recent call last)",
      "\u001b[1;32m<ipython-input-9-7de8aa170326>\u001b[0m in \u001b[0;36m<module>\u001b[1;34m\u001b[0m\n\u001b[0;32m      3\u001b[0m \u001b[1;32mimport\u001b[0m \u001b[0mcsv\u001b[0m\u001b[1;33m\u001b[0m\u001b[0m\n\u001b[0;32m      4\u001b[0m \u001b[1;33m\u001b[0m\u001b[0m\n\u001b[1;32m----> 5\u001b[1;33m \u001b[1;32mwith\u001b[0m \u001b[0mopen\u001b[0m\u001b[1;33m(\u001b[0m\u001b[1;34m'tab_delimited_stock_price.txt'\u001b[0m\u001b[1;33m)\u001b[0m \u001b[1;32mas\u001b[0m \u001b[0mf\u001b[0m\u001b[1;33m:\u001b[0m\u001b[1;33m\u001b[0m\u001b[0m\n\u001b[0m\u001b[0;32m      6\u001b[0m     \u001b[0mtab_reader\u001b[0m \u001b[1;33m=\u001b[0m \u001b[0mcsv\u001b[0m\u001b[1;33m.\u001b[0m\u001b[0mreader\u001b[0m\u001b[1;33m(\u001b[0m\u001b[0mf\u001b[0m\u001b[1;33m,\u001b[0m \u001b[0mdelimiter\u001b[0m \u001b[1;33m=\u001b[0m \u001b[1;34m'\\t'\u001b[0m\u001b[1;33m)\u001b[0m\u001b[1;33m\u001b[0m\u001b[0m\n\u001b[0;32m      7\u001b[0m     \u001b[1;32mfor\u001b[0m \u001b[0mrow\u001b[0m \u001b[1;32min\u001b[0m \u001b[0mtab_reader\u001b[0m\u001b[1;33m:\u001b[0m\u001b[1;33m\u001b[0m\u001b[0m\n",
      "\u001b[1;31mFileNotFoundError\u001b[0m: [Errno 2] No such file or directory: 'tab_delimited_stock_price.txt'"
     ]
    }
   ],
   "source": [
    "#Delimited Files\n",
    "\n",
    "import csv\n",
    "\n",
    "with open('tab_delimited_stock_price.txt') as f:\n",
    "    tab_reader = csv.reader(f, delimiter = '\\t')\n",
    "    for row in tab_reader:\n",
    "        date = row[0]\n",
    "        symbol = row[1]\n",
    "        closing_price = float(row[2])\n",
    "        process(date, symbol, closing_price)\n",
    "        "
   ]
  },
  {
   "cell_type": "code",
   "execution_count": 10,
   "metadata": {},
   "outputs": [
    {
     "output_type": "error",
     "ename": "FileNotFoundError",
     "evalue": "[Errno 2] No such file or directory: 'colon_delimited_stock_prices.txt'",
     "traceback": [
      "\u001b[1;31m---------------------------------------------------------------------------\u001b[0m",
      "\u001b[1;31mFileNotFoundError\u001b[0m                         Traceback (most recent call last)",
      "\u001b[1;32m<ipython-input-10-003392e6fc4e>\u001b[0m in \u001b[0;36m<module>\u001b[1;34m\u001b[0m\n\u001b[1;32m----> 1\u001b[1;33m \u001b[1;32mwith\u001b[0m \u001b[0mopen\u001b[0m\u001b[1;33m(\u001b[0m\u001b[1;34m'colon_delimited_stock_prices.txt'\u001b[0m\u001b[1;33m)\u001b[0m \u001b[1;32mas\u001b[0m \u001b[0mf\u001b[0m\u001b[1;33m:\u001b[0m\u001b[1;33m\u001b[0m\u001b[0m\n\u001b[0m\u001b[0;32m      2\u001b[0m     \u001b[0mcolon_reader\u001b[0m \u001b[1;33m=\u001b[0m \u001b[0mcsv\u001b[0m\u001b[1;33m.\u001b[0m\u001b[0mDictReader\u001b[0m\u001b[1;33m(\u001b[0m\u001b[0mf\u001b[0m\u001b[1;33m,\u001b[0m \u001b[0mdelimiter\u001b[0m \u001b[1;33m=\u001b[0m \u001b[1;34m':'\u001b[0m\u001b[1;33m)\u001b[0m\u001b[1;33m\u001b[0m\u001b[0m\n\u001b[0;32m      3\u001b[0m     \u001b[1;32mfor\u001b[0m \u001b[0mdict_row\u001b[0m \u001b[1;32min\u001b[0m \u001b[0mcolon_reader\u001b[0m\u001b[1;33m:\u001b[0m\u001b[1;33m\u001b[0m\u001b[0m\n\u001b[0;32m      4\u001b[0m         \u001b[0mdate\u001b[0m \u001b[1;33m=\u001b[0m \u001b[0mdict_row\u001b[0m\u001b[1;33m[\u001b[0m\u001b[1;34m\"date\"\u001b[0m\u001b[1;33m]\u001b[0m\u001b[1;33m\u001b[0m\u001b[0m\n\u001b[0;32m      5\u001b[0m         \u001b[0msymbol\u001b[0m \u001b[1;33m=\u001b[0m \u001b[0mdict_row\u001b[0m\u001b[1;33m[\u001b[0m\u001b[1;34m\"symbol\"\u001b[0m\u001b[1;33m]\u001b[0m\u001b[1;33m\u001b[0m\u001b[0m\n",
      "\u001b[1;31mFileNotFoundError\u001b[0m: [Errno 2] No such file or directory: 'colon_delimited_stock_prices.txt'"
     ]
    }
   ],
   "source": [
    "with open('colon_delimited_stock_prices.txt') as f:\n",
    "    colon_reader = csv.DictReader(f, delimiter = ':')\n",
    "    for dict_row in colon_reader:\n",
    "        date = dict_row[\"date\"]\n",
    "        symbol = dict_row[\"symbol\"]\n",
    "        closing_price = float(dict_row[\"closing_price\"])\n",
    "        process(date, symbol, closing_price)"
   ]
  },
  {
   "cell_type": "code",
   "execution_count": 11,
   "metadata": {},
   "outputs": [],
   "source": [
    "todays_prices = {'AAPL': 90.91, 'MSFT': 41.68, 'FB': 64.5}\n",
    "\n",
    "with open('comma_delimited_stock_prices.txt', 'w') as f:\n",
    "    csv_writer = csv.writer(f, delimiter = ',')\n",
    "    for stock, price in todays_prices.items():\n",
    "        csv_writer.writerow([stock, price])\n",
    "    \n"
   ]
  },
  {
   "cell_type": "code",
   "execution_count": 18,
   "metadata": {},
   "outputs": [],
   "source": [
    "#Scraping the Web\n",
    "\n",
    "#HTML and the Parsing Thereof\n",
    "from bs4 import BeautifulSoup\n",
    "import requests     #HTTPS request\n",
    "\n",
    "url = (\"https://raw.githubusercontent.com/\"\n",
    "        \"joelgrus/data/master/getting-data.html\")\n",
    "html = requests.get(url).text\n",
    "soup = BeautifulSoup(html, 'html5lib')"
   ]
  },
  {
   "cell_type": "code",
   "execution_count": 19,
   "metadata": {},
   "outputs": [],
   "source": [
    "#To find the first <p> tag and its contents use\n",
    "first_paragraph = soup.find('p')    #or just soup.p\n",
    "\n",
    "#You can get the text conetents of a Tag using its text property\n",
    "first_paragraph_text = soup.p.text\n",
    "first_paragraph_words = soup.p.text.split()\n",
    "\n",
    "#You can extract a tag's attributes by treating it like a dict\n",
    "first_paragraph_id = soup.p['id']       #raises KeyError if no 'id'\n",
    "first_paragraph_id2 = soup.p.get('id')  #returns None if no 'id'\n",
    "\n",
    "#You can get multiple tags at once\n",
    "all_paragraphs = soup.find_all('p')     #or just soup('p')\n",
    "paragraphs_with_ids = [p for p in soup('p') if p.get('id')]\n",
    "\n",
    "#Wanting to find tags with a specific class\n",
    "important_paragraphs = soup('p', {'class' : 'important'})\n",
    "important_paragraphs2 = soup('p', 'important')\n",
    "important_paragraphs3 = [p for p in soup('p') if 'important' in p.get('class', [])]\n",
    "\n",
    "#For if you want to find every <span> element that is contained inside a <div> element\n",
    "#Warning: will return the same <span> multiple times\n",
    "#if it sits inside multiple <div>'s\n",
    "#Be more clever if that's the case\n",
    "spans_inside_divs = [span\n",
    "                    for div in soup('div')      #for each <div> on the page\n",
    "                    for span in div('span')]    #find each <span> inside it"
   ]
  },
  {
   "cell_type": "code",
   "execution_count": 21,
   "metadata": {},
   "outputs": [
    {
     "output_type": "stream",
     "name": "stdout",
     "text": [
      "966\n"
     ]
    }
   ],
   "source": [
    "#Example: Keeping Tabs on Congress\n",
    "\n",
    "from bs4 import BeautifulSoup\n",
    "import requests\n",
    "\n",
    "url = \"https://www.house.gov/representatives\"\n",
    "text = requests.get(url).text   #grabs the url's text\n",
    "soup = BeautifulSoup(text, \"html5lib\")\n",
    "\n",
    "all_urls = [a['href']\n",
    "            for a in soup('a')\n",
    "            if a.has_attr('href')]\n",
    "\n",
    "print(len(all_urls))"
   ]
  },
  {
   "cell_type": "code",
   "execution_count": 25,
   "metadata": {
    "tags": []
   },
   "outputs": [
    {
     "output_type": "stream",
     "name": "stdout",
     "text": [
      "872\n"
     ]
    }
   ],
   "source": [
    "import re\n",
    "\n",
    "#Must start with http:// or https://\n",
    "#Must end with .house.gov or .house.gov/\n",
    "regex = r\"^https?://.*\\.house\\.gov/?$\"\n",
    "\n",
    "#Let's write some tests\n",
    "assert re.match(regex, \"http://joel.house.gov\")\n",
    "assert re.match(regex, \"https://joel.house.gov\")\n",
    "assert re.match(regex, \"http://joel.house.gov/\")\n",
    "assert re.match(regex, \"https://joel.house.gov/\")\n",
    "\n",
    "assert not re.match(regex, \"joel.house.gov\")\n",
    "assert not re.match(regex, \"http://joel.house.com\")\n",
    "assert not re.match(regex, \"https://joel.house.gov/biography\")\n",
    "\n",
    "#and now apply\n",
    "good_urls = [url for url in all_urls if re.match(regex, url)]\n",
    "\n",
    "print(len(good_urls)) "
   ]
  },
  {
   "cell_type": "code",
   "execution_count": 26,
   "metadata": {},
   "outputs": [
    {
     "output_type": "stream",
     "name": "stdout",
     "text": [
      "436\n"
     ]
    }
   ],
   "source": [
    "#Remove duplicates\n",
    "good_urls = list(set(good_urls))\n",
    "\n",
    "print(len(good_urls))"
   ]
  },
  {
   "cell_type": "code",
   "execution_count": 27,
   "metadata": {},
   "outputs": [
    {
     "output_type": "stream",
     "name": "stdout",
     "text": [
      "{'https://jayapal.house.gov/category/press-releases/', 'https://jayapal.house.gov/category/news/'}\n"
     ]
    }
   ],
   "source": [
    "html = requests.get('https://jayapal.house.gov').text\n",
    "soup = BeautifulSoup(html, 'html5lib')\n",
    "\n",
    "#Use a set because the links might appear multiple times\n",
    "links = {a['href'] for a in soup('a') if 'press releases' in a.text.lower()}\n",
    "\n",
    "print(links)"
   ]
  },
  {
   "cell_type": "code",
   "execution_count": 28,
   "metadata": {
    "tags": [
     "outputPrepend"
    ]
   },
   "outputs": [
    {
     "output_type": "stream",
     "name": "stdout",
     "text": [
      "D=27'}\n",
      "https://connolly.house.gov/: set()\n",
      "https://craig.house.gov: {'/media/press-releases'}\n",
      "https://stanton.house.gov/: {'/media/press-releases'}\n",
      "https://cheney.house.gov: {'https://cheney.house.gov/category/press_release/'}\n",
      "https://kirkpatrick.house.gov/: set()\n",
      "https://stivers.house.gov/: {'/News/DocumentQuery.aspx?DocumentTypeID=2054'}\n",
      "https://cicilline.house.gov/: {'/press-releases'}\n",
      "https://morgangriffith.house.gov/: {'/News/DocumentQuery.aspx?DocumentTypeID=2235'}\n",
      "https://ferguson.house.gov: {'/news/documentquery.aspx?DocumentTypeID=27'}\n",
      "https://lieu.house.gov/: {'/media-center/press-releases'}\n",
      "https://rutherford.house.gov: {'/media/press-releases'}\n",
      "https://mchenry.house.gov: {'/news/documentquery.aspx?DocumentTypeID=418'}\n",
      "https://guest.house.gov: {'/media/press-releases'}\n",
      "https://johnjoyce.house.gov/: {'/media/press-releases'}\n",
      "https://biggs.house.gov: {'/media/press-releases'}\n",
      "https://dougcollins.house.gov: set()\n",
      "https://kelly.house.gov: {'/press-releases'}\n",
      "https://tiffany.house.gov/: {'/media/press-releases'}\n",
      "https://haaland.house.gov/: {'/media/press-releases'}\n",
      "https://latta.house.gov/: {'/News/DocumentQuery.aspx?DocumentTypeID=1456'}\n",
      "https://eshoo.house.gov/: {'/media/press-releases'}\n",
      "https://gallagher.house.gov: {'/media/press-releases'}\n",
      "https://tipton.house.gov/: {'/media/press-releases'}\n",
      "https://gianforte.house.gov: {'/media-center/press-releases'}\n",
      "https://luetkemeyer.house.gov/: {'/news/documentquery.aspx?DocumentTypeID=2270'}\n",
      "https://lujan.house.gov/: {'https://lujan.house.gov/media-center/press-releases'}\n",
      "https://lacyclay.house.gov: {'/media-center/press-releases'}\n",
      "https://bobbyscott.house.gov: {'/media-center/press-releases'}\n",
      "https://fortenberry.house.gov/: {'/news/press-releases'}\n",
      "https://golden.house.gov: {'/media/press-releases'}\n",
      "https://bishop.house.gov/: {'/media-center/press-releases'}\n",
      "https://andylevin.house.gov/: {'/media/press-releases'}\n",
      "https://visclosky.house.gov/: {'/media-center/latest-news', '/media-center/press-releases'}\n",
      "https://lowey.house.gov: {'/media-center/press-releases'}\n",
      "https://scanlon.house.gov/: set()\n",
      "https://neguse.house.gov/: {'https://neguse.house.gov/media/press-releases'}\n",
      "https://delbene.house.gov: {'/news/documentquery.aspx?DocumentTypeID=27'}\n",
      "https://roe.house.gov/: {'/News/DocumentQuery.aspx?DocumentTypeID=1532'}\n",
      "https://underwood.house.gov/: {'/media/press-releases'}\n",
      "https://jordan.house.gov/: {'/News/DocumentQuery.aspx?DocumentTypeID=1611'}\n",
      "https://meng.house.gov: {'/media-center/press-releases'}\n",
      "https://gibbs.house.gov/: {'/media-center/press-releases'}\n",
      "https://austinscott.house.gov/: {'/press-releases'}\n",
      "https://carter.house.gov/: {'/news/press-releases'}\n",
      "https://davids.house.gov/: {'/media/press-releases'}\n",
      "https://pence.house.gov/: {'/media/press-releases'}\n",
      "https://algreen.house.gov: {'/press-releases'}\n",
      "https://huffman.house.gov: set()\n",
      "https://mcbath.house.gov: {'/press-releases'}\n",
      "https://gaetz.house.gov: {'/media/press-releases'}\n",
      "https://ruiz.house.gov: {'/media-center/press-releases'}\n",
      "https://kim.house.gov/: {'/media/press-releases'}\n",
      "https://gonzalez.house.gov: {'/media/press-releases'}\n",
      "https://pocan.house.gov: {'/media-center/press-releases'}\n",
      "https://walker.house.gov/: {'/media-center/press-releases'}\n",
      "https://mucarsel-powell.house.gov: {'/news/documentquery.aspx?DocumentTypeID=27'}\n",
      "https://schneider.house.gov: {'/media/press-releases'}\n",
      "https://marshall.house.gov: {'/media/press-releases'}\n",
      "https://davidson.house.gov/: {'/media-center/press-releases'}\n",
      "https://dean.house.gov: {'/media/press-releases'}\n",
      "https://morelle.house.gov: {'/media/press-releases'}\n",
      "https://shalala.house.gov/: {'/news/documentquery.aspx?DocumentTypeID=27'}\n",
      "https://cuellar.house.gov/: {'/News/DocumentQuery.aspx?DocumentTypeID=1232'}\n",
      "https://carbajal.house.gov: {'/news/documentquery.aspx?DocumentTypeID=27'}\n",
      "https://grijalva.house.gov/: {'/press-releases/'}\n",
      "https://lesko.house.gov: {'/news/documentquery.aspx?DocumentTypeID=27'}\n",
      "https://cisneros.house.gov/: {'/media/press-releases'}\n",
      "https://lynch.house.gov/: {'/press-releases'}\n",
      "https://timmons.house.gov/: {'/media/press-releases'}\n",
      "https://vargas.house.gov: {'/media-center/press-releases'}\n",
      "https://newhouse.house.gov: {'/media-center/press-releases'}\n",
      "https://brooks.house.gov/: set()\n",
      "https://buck.house.gov/: {'/media-center/press-releases'}\n",
      "https://casten.house.gov: {'/media/press-releases'}\n",
      "https://davidscott.house.gov/: {'/News/DocumentQuery.aspx?DocumentTypeID=377'}\n",
      "https://roby.house.gov/: {'/newsroom/press-releases'}\n",
      "https://horsford.house.gov: {'/media/press-releases'}\n",
      "https://gooden.house.gov: {'/media/press-releases'}\n",
      "https://scalise.house.gov/: {'/media/press-releases'}\n",
      "https://danbishop.house.gov: {'/media/press-releases'}\n",
      "https://horn.house.gov/: {'/news/documentquery.aspx?DocumentTypeID=27'}\n",
      "https://hartzler.house.gov/: {'/media-center/press-releases'}\n",
      "https://barr.house.gov/: {'/press-releases'}\n",
      "https://sablan.house.gov/: set()\n",
      "https://courtney.house.gov/: {'/media-center/press-releases'}\n",
      "https://yarmuth.house.gov/: set()\n",
      "https://budd.house.gov: {'/news/documentquery.aspx?DocumentTypeID=27'}\n",
      "https://larsen.house.gov: {'/news/documentquery.aspx?DocumentTypeID=27'}\n",
      "https://mfume.house.gov/: {'/media/press-releases'}\n",
      "https://gomez.house.gov/: {'/news/documentquery.aspx?DocumentTypeID=27'}\n",
      "https://jhb.house.gov/: {'/News/DocumentQuery.aspx?DocumentTypeID=2113'}\n",
      "https://mariodiazbalart.house.gov/: {'/media-center/press-releases'}\n",
      "https://sarbanes.house.gov/: {'/media-center/press-releases'}\n",
      "https://cardenas.house.gov: {'/media-center/press-releases'}\n",
      "https://kevinbrady.house.gov/: {'/news/documentquery.aspx?DocumentTypeID=2657'}\n",
      "https://hayes.house.gov: {'/media/press-releases'}\n",
      "https://holding.house.gov: set()\n",
      "https://lindasanchez.house.gov/: set()\n",
      "https://roy.house.gov: {'/media/press-releases'}\n",
      "https://lipinski.house.gov/: {'/press-releases/'}\n",
      "https://pappas.house.gov: {'/media/press-releases'}\n",
      "https://norman.house.gov: {'/news/documentquery.aspx?DocumentTypeID=27'}\n",
      "https://richmond.house.gov/: {'/media-center/press-releases'}\n",
      "https://miller.house.gov/: {'/media/press-releases'}\n",
      "https://stefanik.house.gov/: {'/media-center/press-releases'}\n",
      "https://bergman.house.gov: {'/news/documentquery.aspx?DocumentTypeID=27'}\n",
      "https://torres.house.gov/: {'/media-center/press-releases'}\n",
      "https://rouda.house.gov: {'/media/press-releases'}\n",
      "https://mccollum.house.gov: {'/media/press-releases'}\n",
      "https://sylviagarcia.house.gov/: {'/media/press-releases'}\n",
      "https://waters.house.gov: {'/media-center/press-releases'}\n",
      "https://murphy.house.gov: {'/news/documentquery.aspx?DocumentTypeID=27'}\n",
      "https://maxrose.house.gov/: set()\n",
      "https://langevin.house.gov: {'/press-releases'}\n",
      "https://slotkin.house.gov/: {'/media/press-releases'}\n",
      "https://fitzpatrick.house.gov/: {'/press-releases'}\n",
      "https://joewilson.house.gov/: {'/media-center/press-releases'}\n",
      "https://bilirakis.house.gov/: {'/media/press-releases'}\n",
      "https://beyer.house.gov: {'/news/documentquery.aspx?DocumentTypeID=27'}\n",
      "https://quigley.house.gov/: {'/media-center/press-releases'}\n",
      "https://rubengallego.house.gov/: {'/media-center/press-releases'}\n",
      "https://ruppersberger.house.gov: {'/news-room/press-releases'}\n",
      "https://kinzinger.house.gov/: {'/news/documentquery.aspx?DocumentTypeID=2665'}\n",
      "https://mikelevin.house.gov: {'/media/press-releases'}\n",
      "https://harder.house.gov/: {'/media/press-releases'}\n",
      "https://seanmaloney.house.gov: set()\n",
      "https://barragan.house.gov: {'https://barragan.house.gov/category/press-releases/'}\n",
      "https://pascrell.house.gov/: {'/news/documentquery.aspx?DocumentTypeID=27'}\n",
      "https://hollingsworth.house.gov: set()\n",
      "https://womack.house.gov/: {'/News/DocumentQuery.aspx?DocumentTypeID=2067'}\n",
      "https://peteking.house.gov: set()\n",
      "https://estes.house.gov/: {'/news/documentquery.aspx?DocumentTypeID=27'}\n",
      "https://allen.house.gov: {'/news/documentquery.aspx?DocumentTypeID=27'}\n",
      "https://keller.house.gov: {'/media/press-releases'}\n",
      "https://posey.house.gov/: {'/News/DocumentQuery.aspx?DocumentTypeID=1487', '#tab-2'}\n",
      "https://raskin.house.gov: {'/media/press-releases'}\n",
      "https://schrier.house.gov: {'/media/press-releases'}\n",
      "https://sewell.house.gov/: {'/frontpage?qt-home_page_tabs=0#qt-home_page_tabs', '/media-center/press-releases'}\n",
      "https://himes.house.gov/: set()\n",
      "https://loebsack.house.gov/: {'/News/DocumentQuery.aspx?DocumentTypeID=893'}\n",
      "https://plaskett.house.gov/: {'/news/documentquery.aspx?documenttypeid=27'}\n",
      "https://graves.house.gov/: {'/media-center?media_type=congress_press_release'}\n",
      "https://lamborn.house.gov/: {'/media/press-releases'}\n",
      "https://hoyer.house.gov/: set()\n",
      "https://welch.house.gov/: {'/media-center/press-releases'}\n",
      "https://robbishop.house.gov: {'/media/press-releases'}\n",
      "https://adriansmith.house.gov/: {'/newsroom/press-releases'}\n",
      "https://billjohnson.house.gov/: {'/news/documentquery.aspx?DocumentTypeID=2085', '/News/DocumentQuery.aspx?DocumentTypeID=2085'}\n",
      "https://crenshaw.house.gov/: {'/news/documentquery.aspx?DocumentTypeID=27'}\n",
      "https://timryan.house.gov/: {'/media/press-releases'}\n",
      "https://walden.house.gov/: {'/media-center/press-releases'}\n",
      "https://simpson.house.gov: {'/News/DocumentQuery.aspx?DocumentTypeID=1515'}\n",
      "https://gonzalez-colon.house.gov: {'/media/press-releases'}\n",
      "https://donyoung.house.gov/: {'/News/'}\n",
      "https://kathleenrice.house.gov: {'/news/documentquery.aspx?DocumentTypeID=27'}\n",
      "https://burgess.house.gov/: {'/News/DocumentQuery.aspx?DocumentTypeID=75'}\n",
      "https://allred.house.gov/: {'/media/press-releases'}\n",
      "https://nunes.house.gov/: {'/News/DocumentQuery.aspx?DocumentTypeID=2133'}\n",
      "https://lucas.house.gov: {'/news/press-releases'}\n",
      "https://pallone.house.gov: {'/media/press-releases'}\n",
      "https://hudson.house.gov: {'/press-releases/'}\n",
      "https://jasonsmith.house.gov: set()\n",
      "https://westerman.house.gov/: set()\n",
      "https://rouzer.house.gov/: {'/press-releases'}\n",
      "https://delauro.house.gov/: {'/media-center/press-releases'}\n",
      "https://byrne.house.gov/: {'/media-center/press-releases'}\n",
      "https://bucshon.house.gov/: {'/news/documentquery.aspx?DocumentTypeID=27'}\n",
      "https://curtis.house.gov/: {'https://curtis.house.gov/category/press-releases/'}\n",
      "https://phillips.house.gov/: {'/media/press-releases'}\n",
      "https://maloney.house.gov/: {'/news/press-releases'}\n",
      "https://walberg.house.gov/: {'/media/press-releases'}\n",
      "https://mooney.house.gov/: {'/media-center/press-releases'}\n",
      "https://neal.house.gov/: {'/press-releases'}\n",
      "https://hagedorn.house.gov/: {'/media/press-releases'}\n",
      "https://massie.house.gov: set()\n",
      "https://cox.house.gov: {'/media/press-releases'}\n",
      "https://axne.house.gov/: {'/media/press-releases'}\n",
      "https://huizenga.house.gov/: {'/News/DocumentQuery.aspx?DocumentTypeID=2041'}\n",
      "https://mikegarcia.house.gov/: {'/media/press-releases'}\n",
      "https://juliabrownley.house.gov: {'https://juliabrownley.house.gov/category/press-releases/'}\n",
      "https://gwenmoore.house.gov: {'/news/documentquery.aspx?DocumentTypeID=27'}\n",
      "https://lowenthal.house.gov: {'/media/press-releases'}\n",
      "https://malinowski.house.gov/: {'/media/press-releases'}\n",
      "https://wassermanschultz.house.gov/: {'/news/documentquery.aspx?DocumentTypeID=27'}\n",
      "https://lawson.house.gov: {'https://lawson.house.gov/media/press-releases'}\n",
      "https://pingree.house.gov/: set()\n",
      "https://bost.house.gov/: {'/media-center/press-releases'}\n",
      "https://cleaver.house.gov: {'/media-center/press-releases'}\n",
      "https://vantaylor.house.gov/: set()\n",
      "https://sannicolas.house.gov: set()\n",
      "https://roybal-allard.house.gov: {'#tab2', '/news/documentquery.aspx?DocumentTypeID=1465'}\n",
      "https://takano.house.gov: {'https://takano.house.gov/newsroom/press-releases'}\n",
      "https://moolenaar.house.gov/: {'/media-center/press-releases'}\n",
      "https://sensenbrenner.house.gov: {'/press-releases-statements'}\n",
      "https://shimkus.house.gov/: {'/media-center/press-releases'}\n",
      "https://mcadams.house.gov/: {'/news/documentquery.aspx?DocumentTypeID=27'}\n",
      "https://buddycarter.house.gov/: {'/news/documentquery.aspx?DocumentTypeID=27'}\n",
      "https://francisrooney.house.gov: {'/news/documentquery.aspx?DocumentTypeID=27'}\n",
      "https://adams.house.gov: {'/media-center/press-releases'}\n",
      "https://khanna.house.gov: {'/media/press-releases'}\n",
      "https://matsui.house.gov: {'/news/documentquery.aspx?DocumentTypeID=27'}\n",
      "https://hice.house.gov/: {'/news/documentquery.aspx?DocumentTypeID=27'}\n",
      "https://ohalleran.house.gov: {'/media/press-releases'}\n",
      "https://clayhiggins.house.gov: {'/media/press-releases'}\n",
      "https://mullin.house.gov: {'/news/documentquery.aspx?DocumentTypeID=27'}\n",
      "https://titus.house.gov/: set()\n",
      "https://boyle.house.gov/: {'/media-center/press-releases'}\n",
      "https://foster.house.gov: {'/media/press-releases'}\n",
      "https://mcgovern.house.gov/: {'/news/documentquery.aspx?DocumentTypeID=2472'}\n",
      "https://teddeutch.house.gov/: set()\n",
      "https://schakowsky.house.gov: {'/media/press-releases'}\n",
      "https://gottheimer.house.gov: {'/news/documentquery.aspx?DocumentTypeID=27'}\n",
      "https://halrogers.house.gov/: {'/press-releases'}\n",
      "https://tonko.house.gov/: {'/news/documentquery.aspx?DocumentTypeID=27'}\n",
      "https://wittman.house.gov/: {'/news/documentquery.aspx?DocumentTypeID=2670'}\n",
      "https://watkins.house.gov/: {'/media/press-releases'}\n",
      "https://pelosi.house.gov/: {'/news/press-releases'}\n",
      "https://bustos.house.gov: {'https://bustos.house.gov/category/press-release/'}\n",
      "https://abraham.house.gov/: {'/media-center/press-releases'}\n",
      "https://vandrew.house.gov: {'/media/press-releases'}\n",
      "https://houlahan.house.gov/: {'/news/documentquery.aspx?DocumentTypeID=27'}\n",
      "https://aderholt.house.gov/: {'/media-center/press-releases'}\n",
      "https://kustoff.house.gov: {'/media/press-releases'}\n",
      "https://smucker.house.gov/: {'/media/press-releases'}\n",
      "https://cline.house.gov: {'/media/press-releases'}\n",
      "https://price.house.gov/: {'/newsroom/press-releases'}\n",
      "https://crist.house.gov: {'/news/documentquery.aspx?DocumentTypeID=27'}\n",
      "https://escobar.house.gov: {'/news/documentquery.aspx?DocumentTypeID=27'}\n",
      "https://finkenauer.house.gov/: {'/media/press-releases'}\n",
      "https://bonamici.house.gov: {'/media/press-releases'}\n",
      "https://susielee.house.gov: {'/media/press-releases'}\n",
      "https://davis.house.gov: {'/press-releases/'}\n",
      "https://brindisi.house.gov: {'/media/press-releases'}\n",
      "https://palazzo.house.gov/: {'/News/DocumentQuery.aspx?DocumentTypeID=2519'}\n",
      "https://spano.house.gov/: {'/news/documentquery.aspx?DocumentTypeID=27'}\n",
      "https://trahan.house.gov: set()\n",
      "https://debbiedingell.house.gov/: {'/news/', '/news/documentquery.aspx?DocumentTypeID=27'}\n",
      "https://mitchell.house.gov: {'/media/press-releases'}\n",
      "https://susandavis.house.gov/: {'/news/documentquery.aspx?DocumentTypeID=1782'}\n",
      "https://wild.house.gov: {'/media/press-releases'}\n",
      "https://delgado.house.gov: {'/media/press-releases'}\n",
      "https://chuygarcia.house.gov/: {'/media/press-releases'}\n",
      "https://fulcher.house.gov/: {'/press-releases'}\n",
      "https://collinpeterson.house.gov: {'/media/press-releases'}\n",
      "https://wenstrup.house.gov: {'/news/documentquery.aspx?DocumentTypeID=2491'}\n",
      "https://trone.house.gov: {'/media/press-releases'}\n",
      "https://markgreen.house.gov/: {'/press-releases'}\n",
      "https://butterfield.house.gov: {'/media-center/press-releases'}\n",
      "https://gregmurphy.house.gov: {'/media/press-releases'}\n",
      "https://norton.house.gov/: {'/media-center/press-releases'}\n",
      "https://yoho.house.gov: {'/media-center/press-releases'}\n",
      "https://jacobs.house.gov: {'/media/press-releases'}\n",
      "https://chabot.house.gov/: {'/news/documentquery.aspx?DocumentTypeID=2508'}\n",
      "https://moulton.house.gov/: set()\n",
      "https://tomgraves.house.gov/: set()\n",
      "https://crawford.house.gov/: {'/News/DocumentQuery.aspx?DocumentTypeID=2080'}\n",
      "https://harris.house.gov/: {'/media/press-releases'}\n",
      "https://velazquez.house.gov: {'/media-center/press-releases'}\n",
      "https://lamb.house.gov: {'/media/press-releases'}\n",
      "https://rodneydavis.house.gov: {'#tab1', '/news/documentquery.aspx?DocumentTypeID=2427'}\n",
      "https://jayapal.house.gov: {'https://jayapal.house.gov/category/press-releases/', 'https://jayapal.house.gov/category/news/'}\n",
      "https://calvert.house.gov/: {'/media/press-releases'}\n",
      "https://defazio.house.gov/: {'/media-center/press-releases'}\n",
      "https://adamsmith.house.gov/: {'/press-releases', '#recentposts-pressreleases'}\n",
      "https://bera.house.gov: {'/media-center/press-releases'}\n",
      "https://kennedy.house.gov: {'https://kennedy.house.gov/newsroom/press-releases'}\n",
      "https://steveking.house.gov/: {'/media-center/press-releases'}\n",
      "https://doggett.house.gov: set()\n",
      "https://walorski.house.gov: set()\n",
      "https://ebjohnson.house.gov: {'/media-center/press-releases'}\n",
      "https://cunningham.house.gov/: {'/media/press-releases'}\n",
      "https://meeks.house.gov: {'/media/press-releases'}\n",
      "https://hurd.house.gov/: {'/media-center/press-releases'}\n",
      "https://napolitano.house.gov/: {'/media/press-releases'}\n",
      "https://buchanan.house.gov/: set()\n",
      "https://lahood.house.gov/: set()\n",
      "https://scottpeters.house.gov: {'/media-center/press-releases'}\n",
      "https://bluntrochester.house.gov: set()\n",
      "https://fletcher.house.gov: {'/news/documentquery.aspx?DocumentTypeID=27'}\n",
      "https://mceachin.house.gov: {'/media/press-releases'}\n",
      "https://riggleman.house.gov: {'/media/press-releases'}\n",
      "https://desaulnier.house.gov/: {'/media-center/press-releases'}\n",
      "https://wright.house.gov/: {'/media/press-releases'}\n",
      "https://kuster.house.gov: {'/news/documentquery.aspx?DocumentTypeID=27'}\n",
      "https://sherman.house.gov: {'/media-center', '/media-center/press-releases'}\n",
      "https://norcross.house.gov: set()\n",
      "https://gabbard.house.gov: {'/news/press-releases'}\n",
      "https://lawrence.house.gov/: {'/media-center/press-releases'}\n",
      "https://olson.house.gov/: {'/media-center/press-releases/archive/2014', '/media-center/press-releases/archive/2015', '/media-center/press-releases/archive/2013', '/media-center/press-releases/archive/2019', '/media-center/press-releases', '/media-center/press-releases/archive/2017', '/media-center/press-releases/archive/2018', '/media-center/press-releases/archive/2010', '/media-center/press-releases/archive/2009', '/media-center/press-releases/archive/2011', '/media-center/press-releases/archive/2012', '/media-center/press-releases/archive/2016'}\n",
      "https://speier.house.gov/: {'/press-releases'}\n",
      "https://loudermilk.house.gov: {'/news/documentquery.aspx?DocumentTypeID=27'}\n",
      "https://ocasio-cortez.house.gov/: {'/media/press-releases'}\n",
      "https://babin.house.gov: {'/news/documentquery.aspx?DocumentTypeID=27'}\n",
      "https://clyburn.house.gov/: {'/press-releases'}\n",
      "https://williams.house.gov: {'/media-center/press-releases'}\n",
      "https://benniethompson.house.gov/: {'/media/press-releases'}\n",
      "https://baird.house.gov/: {'/news/documentquery.aspx?DocumentTypeID=27'}\n",
      "https://comer.house.gov/: {'/media/press-releases'}\n",
      "https://nadler.house.gov: {'/news/documentquery.aspx?DocumentTypeID=1753'}\n",
      "https://wagner.house.gov: {'/media-center/press-releases'}\n",
      "https://webster.house.gov/: {'/press-releases'}\n",
      "https://castor.house.gov/: {'/News/DocumentQuery.aspx?DocumentTypeID=821'}\n",
      "https://pressley.house.gov: {'/media/press-releases'}\n",
      "https://dunn.house.gov: {'/press-releases'}\n",
      "https://meuser.house.gov: {'/media/press-releases'}\n",
      "https://kaygranger.house.gov: {'/press-releases'}\n",
      "https://armstrong.house.gov: {'/media/press-releases'}\n",
      "https://cook.house.gov: {'/media-center/press-releases'}\n",
      "https://guthrie.house.gov/: set()\n",
      "https://bacon.house.gov: {'/news/documentquery.aspx?DocumentTypeID=27'}\n",
      "https://cloud.house.gov: set()\n",
      "https://long.house.gov/: {'/news/documentquery.aspx?DocumentTypeID=27'}\n",
      "https://krishnamoorthi.house.gov: {'/media/press-releases'}\n",
      "https://chu.house.gov/: {'/media-center/press-releases'}\n",
      "https://tlaib.house.gov/: {'/media/press-releases'}\n",
      "https://watsoncoleman.house.gov/: {'/news/documentquery.aspx?DocumentTypeID=27'}\n",
      "https://lofgren.house.gov/: {'/media/press-releases'}\n",
      "https://doyle.house.gov: {'/media/press-releases'}\n",
      "https://correa.house.gov: {'/news'}\n",
      "https://stauber.house.gov: {'/media/press-releases'}\n",
      "https://beatty.house.gov: {'/media-center/press-releases'}\n",
      "https://lamalfa.house.gov: {'/media-center/press-releases'}\n",
      "https://fudge.house.gov/: set()\n",
      "https://soto.house.gov: {'/media/press-releases'}\n",
      "https://waltz.house.gov: {'/news/documentquery.aspx?DocumentTypeID=27'}\n",
      "https://steil.house.gov: {'/media/press-releases'}\n",
      "https://degette.house.gov: {'/newsroom/press-releases'}\n",
      "https://trentkelly.house.gov/: {'/news/documentquery.aspx?DocumentTypeID=27'}\n"
     ]
    }
   ],
   "source": [
    "#Web Scraping\n",
    "\n",
    "from typing import Dict, Set\n",
    "\n",
    "press_releases: Dict[str, Set[str]] = {}\n",
    "\n",
    "for house_url in good_urls:\n",
    "    html = requests.get(house_url).text\n",
    "    soup = BeautifulSoup(html, 'html5lib')\n",
    "    pr_links = {a['href'] for a in soup('a') if 'press releases' in a.text.lower()}\n",
    "\n",
    "    print(f\"{house_url}: {pr_links}\")\n",
    "    press_releases[house_url] = pr_links"
   ]
  },
  {
   "cell_type": "code",
   "execution_count": 29,
   "metadata": {},
   "outputs": [],
   "source": [
    "#looking for press releases where 'data' is mentioned\n",
    "\n",
    "def paragraph_mentions(text: str, keyword: str) -> bool:\n",
    "    \"\"\"Returns True if a <p> inside the text mentions {keyword}\"\"\"\n",
    "    soup = BeautifulSoup(text, 'html5lib')\n",
    "    paragraphs = [p.get_text() for p in soup('p')]\n",
    "\n",
    "    return any(keyword.lower() in paragraph.lower() for paragraph in paragraphs)"
   ]
  },
  {
   "cell_type": "code",
   "execution_count": 30,
   "metadata": {},
   "outputs": [],
   "source": [
    "#Quick test\n",
    "text = \"\"\"<body><h1>Facebook</h1><p>Twitter</p>\"\"\"\n",
    "assert paragraph_mentions(text, \"twitter\")      #is inside a <p>\n",
    "assert not paragraph_mentions(text, \"facebook\") #not inside a <p>"
   ]
  },
  {
   "cell_type": "code",
   "execution_count": 31,
   "metadata": {},
   "outputs": [
    {
     "output_type": "stream",
     "name": "stdout",
     "text": [
      "https://perlmutter.house.gov/\n",
      "https://reed.house.gov/\n",
      "https://crow.house.gov/\n",
      "https://gosar.house.gov/\n",
      "https://gomez.house.gov/\n",
      "https://byrne.house.gov/\n",
      "https://gwenmoore.house.gov\n",
      "https://mullin.house.gov\n",
      "https://gottheimer.house.gov\n",
      "https://crist.house.gov\n",
      "https://scottpeters.house.gov\n",
      "https://baird.house.gov/\n",
      "https://wagner.house.gov\n",
      "https://long.house.gov/\n"
     ]
    }
   ],
   "source": [
    "#script\n",
    "for house_url, pr_links in press_releases.items():\n",
    "    for pr_links in pr_links:\n",
    "        url = f\"{house_url}/{pr_links}\"\n",
    "        text = requests.get(url).text\n",
    "\n",
    "        if paragraph_mentions(text, 'data'):\n",
    "            print(f\"{house_url}\")\n",
    "            break   #done with this house url"
   ]
  },
  {
   "cell_type": "code",
   "execution_count": 32,
   "metadata": {},
   "outputs": [
    {
     "output_type": "execute_result",
     "data": {
      "text/plain": [
       "'\\n    Many websites and web services provide application programming interfaces which allow you to explicitly request data in a structured format. This saves you the trouble of having to scrape them!\\n'"
      ]
     },
     "metadata": {},
     "execution_count": 32
    }
   ],
   "source": [
    "#Using API's\n",
    "\"\"\"\n",
    "    Many websites and web services provide application programming interfaces which allow you to explicitly request data in a structured format. This saves you the trouble of having to scrape them!\n",
    "\"\"\""
   ]
  },
  {
   "cell_type": "code",
   "execution_count": 34,
   "metadata": {},
   "outputs": [],
   "source": [
    "#JSON and XML\n",
    "\n",
    "import json\n",
    "\n",
    "serialized = \"\"\" {\"title\" : \"Data Science Book\",\n",
    "                    \"author\" : \"Joel Grus\",\n",
    "                    \"publicationYear\" : 2019,\n",
    "                    \"topics\" : [\"data\", \"science\", \"data science\"]} \"\"\"\n",
    "\n",
    "#parse the JSON to create a py dict\n",
    "deserialized = json.loads(serialized)\n",
    "assert deserialized[\"publicationYear\"] == 2019\n",
    "assert \"data science\" in deserialized[\"topics\"]"
   ]
  },
  {
   "cell_type": "code",
   "execution_count": 1,
   "metadata": {
    "tags": []
   },
   "outputs": [],
   "source": [
    "import requests, json\n",
    "\n",
    "github_user = \"JoshuaP199\"\n",
    "endpoint = f\"https://api.github.com/users/{github_user}/repos\"\n",
    "\n",
    "repos = json.loads(requests.get(endpoint).text)"
   ]
  },
  {
   "cell_type": "code",
   "execution_count": 2,
   "metadata": {},
   "outputs": [],
   "source": [
    "from collections import Counter\n",
    "from dateutil.parser import parse\n",
    "\n",
    "dates = [parse(repo[\"created_at\"]) for repo in repos]\n",
    "month_counts = Counter(date.month for date in dates)\n",
    "weekdays_count = Counter(date.weekday() for date in dates)\n",
    "\n"
   ]
  },
  {
   "cell_type": "code",
   "execution_count": 3,
   "metadata": {},
   "outputs": [
    {
     "output_type": "stream",
     "name": "stdout",
     "text": [
      "['Python', 'TSQL', 'Java', 'Python', 'Python']\n"
     ]
    }
   ],
   "source": [
    "last_5_repositories = sorted(repos, key=lambda r: r['pushed_at'], reverse = True)[:5]\n",
    "\n",
    "last_5_languages = [repo[\"language\"] for repo in last_5_repositories]\n",
    "\n",
    "print(last_5_languages)"
   ]
  },
  {
   "cell_type": "code",
   "execution_count": 47,
   "metadata": {},
   "outputs": [
    {
     "output_type": "execute_result",
     "data": {
      "text/plain": [
       "\"\\n    If you need data from a specific site, look for a 'developers' or 'API' section of the site for details, and try searching the web for 'python <sitename> api' to find a library\\n\""
      ]
     },
     "metadata": {},
     "execution_count": 47
    }
   ],
   "source": [
    "#Finding API's\n",
    "\"\"\"\n",
    "    If you need data from a specific site, look for a 'developers' or 'API' section of the site for details, and try searching the web for 'python <sitename> api' to find a library\n",
    "\"\"\""
   ]
  },
  {
   "cell_type": "code",
   "execution_count": 4,
   "metadata": {},
   "outputs": [],
   "source": [
    "#REMOVE THESE\n",
    "os.environ[\"Consumer_Key\"] = \"\"\n",
    "os.environ[\"Consumer_Secret_Key\"] = \"\""
   ]
  },
  {
   "cell_type": "code",
   "execution_count": 5,
   "metadata": {},
   "outputs": [
    {
     "output_type": "stream",
     "name": "stdout",
     "text": [
      "go visit https://api.twitter.com/oauth/authenticate?oauth_token=STz9JQAAAAABJEZ8AAABdWnQ-do and get the PIN code and paste it below\n"
     ]
    },
    {
     "output_type": "error",
     "ename": "TwythonAuthError",
     "evalue": "Twitter API returned a 401 (Unauthorized), b'{\"errors\":[{\"code\":89,\"message\":\"Invalid or expired token.\"}]}'",
     "traceback": [
      "\u001b[1;31m---------------------------------------------------------------------------\u001b[0m",
      "\u001b[1;31mTwythonAuthError\u001b[0m                          Traceback (most recent call last)",
      "\u001b[1;32m<ipython-input-5-497185e37dc1>\u001b[0m in \u001b[0;36m<module>\u001b[1;34m\u001b[0m\n\u001b[0;32m     19\u001b[0m \u001b[1;31m#now we use that PIN_CODE to get the actual tokens\u001b[0m\u001b[1;33m\u001b[0m\u001b[1;33m\u001b[0m\u001b[0m\n\u001b[0;32m     20\u001b[0m \u001b[0mauth_client\u001b[0m \u001b[1;33m=\u001b[0m \u001b[0mTwython\u001b[0m\u001b[1;33m(\u001b[0m\u001b[0mCONSUMER_KEY\u001b[0m\u001b[1;33m,\u001b[0m \u001b[0mCONSUMER_SECRET\u001b[0m\u001b[1;33m,\u001b[0m \u001b[0mtemp_creds\u001b[0m\u001b[1;33m[\u001b[0m\u001b[1;34m'oauth_token'\u001b[0m\u001b[1;33m]\u001b[0m\u001b[1;33m,\u001b[0m \u001b[0mtemp_creds\u001b[0m\u001b[1;33m[\u001b[0m\u001b[1;34m'oauth_token_secret'\u001b[0m\u001b[1;33m]\u001b[0m\u001b[1;33m)\u001b[0m\u001b[1;33m\u001b[0m\u001b[0m\n\u001b[1;32m---> 21\u001b[1;33m \u001b[0mfinal_step\u001b[0m \u001b[1;33m=\u001b[0m \u001b[0mauth_client\u001b[0m\u001b[1;33m.\u001b[0m\u001b[0mget_authentication_tokens\u001b[0m\u001b[1;33m(\u001b[0m\u001b[0mPIN_CODE\u001b[0m\u001b[1;33m)\u001b[0m\u001b[1;33m\u001b[0m\u001b[0m\n\u001b[0m\u001b[0;32m     22\u001b[0m \u001b[0mACCESS_TOKEN\u001b[0m \u001b[1;33m=\u001b[0m \u001b[0mfinal_step\u001b[0m\u001b[1;33m[\u001b[0m\u001b[1;34m'oauth_token'\u001b[0m\u001b[1;33m]\u001b[0m\u001b[1;33m\u001b[0m\u001b[0m\n\u001b[0;32m     23\u001b[0m \u001b[0mACCESS_TOKEN_SECRET\u001b[0m \u001b[1;33m=\u001b[0m \u001b[0mfinal_step\u001b[0m\u001b[1;33m[\u001b[0m\u001b[1;34m'oauth_token_secret'\u001b[0m\u001b[1;33m]\u001b[0m\u001b[1;33m\u001b[0m\u001b[0m\n",
      "\u001b[1;32m~\\AppData\\Roaming\\Python\\Python36\\lib\\site-packages\\twython\\api.py\u001b[0m in \u001b[0;36mget_authentication_tokens\u001b[1;34m(self, callback_url, force_login, screen_name)\u001b[0m\n\u001b[0;32m    334\u001b[0m         \u001b[1;32mif\u001b[0m \u001b[0mresponse\u001b[0m\u001b[1;33m.\u001b[0m\u001b[0mstatus_code\u001b[0m \u001b[1;33m==\u001b[0m \u001b[1;36m401\u001b[0m\u001b[1;33m:\u001b[0m\u001b[1;33m\u001b[0m\u001b[0m\n\u001b[0;32m    335\u001b[0m             raise TwythonAuthError(response.content,\n\u001b[1;32m--> 336\u001b[1;33m                                    error_code=response.status_code)\n\u001b[0m\u001b[0;32m    337\u001b[0m         \u001b[1;32melif\u001b[0m \u001b[0mresponse\u001b[0m\u001b[1;33m.\u001b[0m\u001b[0mstatus_code\u001b[0m \u001b[1;33m!=\u001b[0m \u001b[1;36m200\u001b[0m\u001b[1;33m:\u001b[0m\u001b[1;33m\u001b[0m\u001b[0m\n\u001b[0;32m    338\u001b[0m             raise TwythonError(response.content,\n",
      "\u001b[1;31mTwythonAuthError\u001b[0m: Twitter API returned a 401 (Unauthorized), b'{\"errors\":[{\"code\":89,\"message\":\"Invalid or expired token.\"}]}'"
     ]
    }
   ],
   "source": [
    "#Example: Using the Twitter API's\n",
    "\n",
    "CONSUMER_KEY = os.environ.get(\"Consumer_Key\")\n",
    "CONSUMER_SECRET = os.environ.get(\"Consumer_Secret_Key\")\n",
    "\n",
    "import webbrowser\n",
    "from twython import Twython\n",
    "\n",
    "#Get a temporary client to retrieve an authentication URL\n",
    "temp_client = Twython(CONSUMER_KEY, CONSUMER_SECRET)\n",
    "temp_creds = temp_client.get_authentication_tokens()\n",
    "url = temp_creds['auth_url']\n",
    "\n",
    "#Now visit that URL to authorize the application and get a PIN\n",
    "print(f\"go visit {url} and get the PIN code and paste it below\")\n",
    "webbrowser.open(url)\n",
    "PIN_CODE = input(\"please enter the PIN code: \")\n",
    "\n",
    "#now we use that PIN_CODE to get the actual tokens\n",
    "auth_client = Twython(CONSUMER_KEY, CONSUMER_SECRET, temp_creds['oauth_token'], temp_creds['oauth_token_secret'])\n",
    "final_step = auth_client.get_authentication_tokens(PIN_CODE)\n",
    "ACCESS_TOKEN = final_step['oauth_token']\n",
    "ACCESS_TOKEN_SECRET = final_step['oauth_token_secret']\n",
    "\n",
    "#and ge a new Twython instance using them\n",
    "twitter = Twython(CONSUMER_KEY, CONSUMER_SECRET, ACCESS_TOKEN, ACCESS_TOKEN_SECRET)\n",
    "\n",
    "#ERROR 401 (UNAUTHORIZED, Invalid or expired token)"
   ]
  },
  {
   "cell_type": "code",
   "execution_count": null,
   "metadata": {},
   "outputs": [],
   "source": [
    "#Not connecting, skipping twitter API"
   ]
  }
 ]
}