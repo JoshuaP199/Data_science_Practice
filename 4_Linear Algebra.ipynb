{
 "metadata": {
  "language_info": {
   "codemirror_mode": {
    "name": "ipython",
    "version": 3
   },
   "file_extension": ".py",
   "mimetype": "text/x-python",
   "name": "python",
   "nbconvert_exporter": "python",
   "pygments_lexer": "ipython3",
   "version": "3.6.1-final"
  },
  "orig_nbformat": 2,
  "kernelspec": {
   "name": "Python 3.6.1 64-bit",
   "display_name": "Python 3.6.1 64-bit",
   "metadata": {
    "interpreter": {
     "hash": "d91e8cf5da37e178649d67f5172d212fc824bfda2fb358203aaa45c4578e1c5e"
    }
   }
  }
 },
 "nbformat": 4,
 "nbformat_minor": 2,
 "cells": [
  {
   "cell_type": "code",
   "execution_count": 1,
   "metadata": {},
   "outputs": [],
   "source": [
    "#Linear Algebra (VERY IMPORTANT FOR DATA SCIENCE)"
   ]
  },
  {
   "cell_type": "code",
   "execution_count": 1,
   "metadata": {},
   "outputs": [],
   "source": [
    "#Vectors\n",
    "\n",
    "from typing import List\n",
    "Vector = List[float]\n",
    "height_weight_age=[70,      #inches\n",
    "                   170,     #pounds\n",
    "                   40]      #years\n",
    "grades = [95,\n",
    "          80,\n",
    "          75,\n",
    "          62]\n",
    "\n",
    "def add(v: Vector, w:Vector) -> Vector:\n",
    "    assert len(v) == len(w), \"Vectors must be the same length\"\n",
    "    return [v_i + w_i for v_i, w_i in zip(v,w)]     #zip(v,w) would be v[0]+w[0], v[1]+w[0], ...\n",
    "\n",
    "assert add([1,2,3], [4,5,6]) == [5,7,9]\n",
    "\n",
    "def subtract(v:Vector, w:Vector) -> Vector:\n",
    "    assert len(v) == len(w), \"Vectors must be the same length\"\n",
    "    return [v_i - w_i for v_i, w_i in zip(v,w)]\n",
    "\n",
    "assert subtract([5,7,9],[4,5,6]) == [1,2,3]\n",
    "\n",
    "def vector_sum(vectors: List[Vector]) -> Vector:\n",
    "    \"\"\"Sums all corresponding elements\"\"\"\n",
    "    #Check that vectors are not empty\n",
    "    assert vectors, \"no vectors provided!\"\n",
    "\n",
    "    #Check the vectors are all the same size\n",
    "    num_elements = len(vectors[0])\n",
    "    assert all(len(v) == num_elements for v in vectors), \"Different sizes!\"\n",
    "\n",
    "    #The i'th element of the result is the sum of every vector[i]\n",
    "    return [sum(vector[i] for vector in vectors) for i in range(num_elements)]\n",
    "\n",
    "assert vector_sum([[1,2], [3,4], [5,6], [7,8]]) == [16,20]\n",
    "\n",
    "def scalar_multiply(c: float, v: Vector) -> Vector:\n",
    "    \"\"\"Multiplies every element by c\"\"\"\n",
    "    return [c * v_i for v_i in v]\n",
    "\n",
    "assert scalar_multiply(2,[1,2,3]) == [2,4,6]\n",
    "\n",
    "def vector_mean(vectors: List[Vector]) -> Vector:\n",
    "    \"\"\"Computes the element-wise average\"\"\"\n",
    "    n = len(vectors)\n",
    "    return scalar_multiply(1/n, vector_sum(vectors))\n",
    "\n",
    "assert vector_mean([[1,2], [3,4], [5,6]]) == [3,4]\n",
    "\n",
    "def dot(v: Vector, w: Vector) -> float:\n",
    "    \"\"\"Computes v_1 * w_1 + ... + v_n * w_n\"\"\"\n",
    "    assert len(v) == len(w), \"Vectors must be same length\"\n",
    "    return sum(v_i * w_i for v_i, w_i in zip(v,w))\n",
    "\n",
    "assert dot([1,2,3],[4,5,6]) == 32 #1*4 + 2*5 + 3*6\n"
   ]
  },
  {
   "cell_type": "code",
   "execution_count": 2,
   "metadata": {},
   "outputs": [],
   "source": [
    "def sum_of_squares(v: Vector) ->  float:\n",
    "    \"\"\"Returns v_1 * v_1 + ... + v_n * v_n\"\"\"\n",
    "    return dot(v,v)\n",
    "\n",
    "assert sum_of_squares([1,2,3]) == 14 #1*1 + 2*2 + 3*3\n",
    "\n",
    "import math\n",
    "\n",
    "def magnitude(v: Vector) -> float:\n",
    "    \"\"\"Returns the magnitude (or length) of v \"\"\"\n",
    "    return math.sqrt(sum_of_squares(v))\n",
    "\n",
    "assert magnitude([3,4]) == 5"
   ]
  },
  {
   "cell_type": "code",
   "execution_count": 3,
   "metadata": {},
   "outputs": [],
   "source": [
    "#compute the distance between two vectors, defined as sqrt[(v_1 - w_1)^2 + ... + (v_n - w_n)^2]\n",
    "\n",
    "def squared_distance(v: Vector, w: Vector) -> float:\n",
    "    \"\"\"Computes (v_1 - w_1) ** 2 + ... + (v_n - w_n) ** 2\"\"\"\n",
    "    return sum_of_squares(subtract(v,w))\n",
    "\n",
    "def distance(v: Vector, w: Vector) -> float:\n",
    "    \"\"\"Computes the distance between v and w\"\"\"\n",
    "    return math.sqrt(squared_distance(v,w))\n",
    "#OR \n",
    "def distance(v: Vector, w: Vector) -> float:\n",
    "    return magnitude(subtract(v,w))\n"
   ]
  },
  {
   "cell_type": "code",
   "execution_count": 5,
   "metadata": {},
   "outputs": [],
   "source": [
    "#MATRICES\n",
    "#Another type alias\n",
    "Matrix = List[List[float]]\n",
    "#Capital letters to represent matrices\n",
    "A = [[1,2,3],[4,5,6]]       #A has 2 rows and 3 columns\n",
    "\n",
    "B = [[1,2], [3,4], [5,6]]   #B has 3 rows and 2 columns\n",
    "\n",
    "from typing import Tuple\n",
    "\n",
    "def shape(A: Matrix) -> Tuple[int, int]:\n",
    "    \"\"\"Returns (# of rows of A, # of columns of A)\"\"\"\n",
    "    num_rows = len(A)\n",
    "    num_cols = len(A[0]) if A else 0    #number of elemens in first row\n",
    "    return num_rows, num_cols\n",
    "\n",
    "assert shape([[1,2,3], [4,5,6]]) == (2,3) #2 rows, 3 columns"
   ]
  },
  {
   "cell_type": "code",
   "execution_count": 6,
   "metadata": {},
   "outputs": [],
   "source": [
    "def get_row(A: Matrix, i: int) -> Vector:\n",
    "    \"\"\"Returns the i'th row of A (as a Vector)\"\"\"\n",
    "    return A[i]\n",
    "\n",
    "def get_column(A: Matrix, j: int) -> Vector:\n",
    "    \"\"\"Returns the j'th column of A (as a Vector)\"\"\"\n",
    "    return [A_i[j] for A_i in A]\n",
    "\n",
    "from typing import Callable\n",
    "\n",
    "def make_matrix(num_rows: int, num_cols: int, entry_fn: Callable[[int, int], float]) -> Matrix:\n",
    "    \"\"\"Returns a num_rows x num_cols matrix whos (i,j)'th entry is entry_fn(i,j)\"\"\"\n",
    "    return [[entry_fn(i,j)              #given i, create list\n",
    "            for j in range(num_cols)]   #[entry_fn(i,0), ...]\n",
    "            for i in range(num_rows)]   #Create one list for each i \n",
    "\n",
    "def identity_matrix(n: int) -> Matrix:\n",
    "    \"\"\"Returns the n x n identity matrix\"\"\"\n",
    "    return make_matrix(n, n, lambda i ,j: 1 if i == j else 0)\n",
    "\n",
    "    assert identity_matrix(5) == [[1,0,0,0,0],\n",
    "                                  [0,1,0,0,0],\n",
    "                                  [0,0,1,0,0],\n",
    "                                  [0,0,0,1,0],\n",
    "                                  [0,0,0,0,1]]\n",
    "                                "
   ]
  },
  {
   "cell_type": "code",
   "execution_count": 7,
   "metadata": {},
   "outputs": [],
   "source": [
    "#If you had the heights, weightsm and ages of 1,000 ppl, you could put them in a 1000x3 matrix:\n",
    "    data = [[70,170,40],\n",
    "            [65,120,26],\n",
    "            [77,250,19],\n",
    "            # ...\n",
    "            ]"
   ]
  },
  {
   "cell_type": "code",
   "execution_count": 8,
   "metadata": {},
   "outputs": [],
   "source": [
    "#remember \n",
    "friendship_pairs = [(0,1),(0,2),(1,2),(1,3),(2,3),(3,4),(4,5),(5,6),(5,7),(6,8),(7,8),(8,9)]\n",
    "#could also be represented as:\n",
    "friend_matrix = [[0,1,1,0,0,0,0,0,0,0], #user 0\n",
    "                 [1,0,1,1,0,0,0,0,0,0], #user 1\n",
    "                 [1,1,0,1,0,0,0,0,0,0], #user 2\n",
    "                 [0,1,1,0,1,0,0,0,0,0], #user 3\n",
    "                 [0,0,0,1,0,1,0,0,0,0], #user 4\n",
    "                 [0,0,0,0,1,0,1,1,0,0], #user 5\n",
    "                 [0,0,0,0,0,1,0,0,1,0], #user 6\n",
    "                 [0,0,0,0,0,1,0,0,1,0], #user 7\n",
    "                 [0,0,0,0,0,0,1,1,0,1], #user 8\n",
    "                 [0,0,0,0,0,0,0,0,1,0]] #user 9\n",
    "\n",
    "assert friend_matrix[0][2] == 1, \"0 and 2 are friends\"\n",
    "assert friend_matrix[0][8] == 0, \"0 and 8 are not friends\""
   ]
  },
  {
   "cell_type": "code",
   "execution_count": 9,
   "metadata": {},
   "outputs": [],
   "source": [
    "#only need to look at one row\n",
    "friends_of_five = [i for i, is_friend in enumerate(friend_matrix[5]) if is_friend]"
   ]
  },
  {
   "cell_type": "code",
   "execution_count": null,
   "metadata": {},
   "outputs": [],
   "source": []
  }
 ]
}