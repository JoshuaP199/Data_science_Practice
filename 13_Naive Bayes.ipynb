{
 "metadata": {
  "language_info": {
   "codemirror_mode": {
    "name": "ipython",
    "version": 3
   },
   "file_extension": ".py",
   "mimetype": "text/x-python",
   "name": "python",
   "nbconvert_exporter": "python",
   "pygments_lexer": "ipython3",
   "version": "3.8.3-final"
  },
  "orig_nbformat": 2,
  "kernelspec": {
   "name": "python3",
   "display_name": "Python 3"
  }
 },
 "nbformat": 4,
 "nbformat_minor": 2,
 "cells": [
  {
   "cell_type": "code",
   "execution_count": 5,
   "metadata": {},
   "outputs": [
    {
     "output_type": "execute_result",
     "data": {
      "text/plain": [
       "'\\n    For example, if 50% of spam messages have the word bitcoin, but only 1% of nonspam messages do, then the probability that any given bitcoin-containing email is spam is:        0.5/(0.5 + 0.01) = 98%\\n'"
      ]
     },
     "metadata": {},
     "execution_count": 5
    }
   ],
   "source": [
    "#A Really Dumb Spam Filter\n",
    "''' Bayes's theorem'''\n",
    "\n",
    "'''\n",
    "    P(\"the message is spam\" S / \"The message contains the word bitcoin\" B) = [P(B|S)P(S)] / [P(B|S)P(S) + P(B|-S)P(-S)] \n",
    "    (-S = message is not spam)\n",
    "'''\n",
    "'''\n",
    "    For example, if 50% of spam messages have the word bitcoin, but only 1% of nonspam messages do, then the probability that any given bitcoin-containing email is spam is:        0.5/(0.5 + 0.01) = 98%\n",
    "'''\n"
   ]
  },
  {
   "cell_type": "code",
   "execution_count": 1,
   "metadata": {},
   "outputs": [
    {
     "output_type": "execute_result",
     "data": {
      "text/plain": [
       "'\\n    Vocabulary of many words w1, ..., wn\\n    Xi for the event \"a message contains the word wi\".     \\'\\n    Imagine we\\'ve come up with an estimate P(Xi|S) for the probability that a spam message gonatins the ith word, and a similar estimate P(Xi|-S) for the probability that a nonspam message contains the ith word.\\n\\n    The key to Naive Bayes is making the (big) assumption that the presence (or absences) of each word are independent of one another, conditional on a message being spam or not.\\n    This assumption means that knowing whether a certain spam message contains the word bitcoin gives you no information about whether that same message ontains the word rolex. In math terms, this means that:\\n        \\n        P(X1 = x1, ..., Xn = xn|S) = P(X1 = x1|S) * ... * P(Xn=xn|S)\\n    \\n    This is an extreme assumption. (There\\'s a reason the technique has naive in its name.) Imagine that our vocabulary consists only of the words bitcoin and rolex, and that half of all spam messages are for \"earn bitcoin\" and that the other half are for \"authentic rolex.\" In this case, the Naive Bayes estimate that a spam message contains both bitcoin and rolex is:\\n\\n        P(X1 = 1, X2 = 1|S) = P(X1= 1|S)P(X2 = 1|S) = .5 * .5 = .25\\n\\n    since we\\'ve assumed away the knowledge that bitcoin and rolex actually never occure together. Dispite the unrealisticness of this assumption, this model often performs well and has historically been used in actual spam filters.\\n'"
      ]
     },
     "metadata": {},
     "execution_count": 1
    }
   ],
   "source": [
    "#A More Sophisticated Spam Filter\n",
    "'''\n",
    "    Vocabulary of many words w1, ..., wn\n",
    "    Xi for the event \"a message contains the word wi\".     '\n",
    "    Imagine we've come up with an estimate P(Xi|S) for the probability that a spam message gonatins the ith word, and a similar estimate P(Xi|-S) for the probability that a nonspam message contains the ith word.\n",
    "\n",
    "    The key to Naive Bayes is making the (big) assumption that the presence (or absences) of each word are independent of one another, conditional on a message being spam or not.\n",
    "    This assumption means that knowing whether a certain spam message contains the word bitcoin gives you no information about whether that same message ontains the word rolex. In math terms, this means that:\n",
    "        \n",
    "        P(X1 = x1, ..., Xn = xn|S) = P(X1 = x1|S) * ... * P(Xn=xn|S)\n",
    "    \n",
    "    This is an extreme assumption. (There's a reason the technique has naive in its name.) Imagine that our vocabulary consists only of the words bitcoin and rolex, and that half of all spam messages are for \"earn bitcoin\" and that the other half are for \"authentic rolex.\" In this case, the Naive Bayes estimate that a spam message contains both bitcoin and rolex is:\n",
    "\n",
    "        P(X1 = 1, X2 = 1|S) = P(X1= 1|S)P(X2 = 1|S) = .5 * .5 = .25\n",
    "\n",
    "    since we've assumed away the knowledge that bitcoin and rolex actually never occure together. Dispite the unrealisticness of this assumption, this model often performs well and has historically been used in actual spam filters.\n",
    "'''"
   ]
  },
  {
   "cell_type": "code",
   "execution_count": 3,
   "metadata": {},
   "outputs": [],
   "source": [
    "#Implementation (STUDY THIS AND UNDERSTAND COMPLETELY)\n",
    "'''\n",
    "    Let's create a simple function to tokeize messages into distinct words. We'll first convert each message to lowercase, then use re.findall to extract \"words\" consisting of letters, numbers, and apostrophes. Finally, we'll use set to get just the distinct words\n",
    "'''\n",
    "\n",
    "from typing import Set\n",
    "import re\n",
    "\n",
    "def tokenize(text: str) -> Set[str]:\n",
    "    text = text.lower()                             #Convert to lowercase\n",
    "    all_words = re.findall(\"[a-z0-9']+\", text)      #extract the words, and\n",
    "    return set(all_words)                           #remove duplicates\n",
    "\n",
    "assert tokenize(\"Data Science is science\") == {\"data\", 'science', 'is'}\n",
    "\n",
    "#We'll also define a type for our training data\n",
    "\n",
    "from typing import NamedTuple\n",
    "\n",
    "class Message(NamedTuple):\n",
    "    text: str\n",
    "    is_spam: bool\n",
    "\n",
    "'''\n",
    "    As our classifier needs to keep track of tokens, counts, and labels from the training data, we'll make it a class. Following convention, we refer to nonspam emails as ham emails\n",
    "    The constructor will take just one parameter, the pseudocount to use when computing probabilities. It also initializes an empty set of tokens, counters to track how often each token is seen in spam messages and ham messages, and counts of how many spam and ham messages it has trained on:\n",
    "'''\n",
    "\n",
    "from typing import List, Tuple, Dict, Iterable\n",
    "import math\n",
    "from collections import defaultdict\n",
    "\n",
    "class NaiveBayesClassifier:\n",
    "    def __init__(self, k: float = 0.5) -> None:\n",
    "        self.k = k #smoothing factor\n",
    "        \n",
    "        self.tokens: Set[str] = set()\n",
    "        self.token_spam_counts: Dict[str, int] = defaultdict(int)\n",
    "        self.token_ham_counts: Dict[str, int] = defaultdict(int)\n",
    "        self.spam_messages = self.ham_messages = 0\n",
    "\n",
    "'''\n",
    "    Next, we'll give it a method to train it on a bunch of messages. First, we increment the spam_messages and ham_messages counts. Then we tokenize each message text, and for each token we increment the token_spam_counts or token_ham_counts bassed on the message type:\n",
    "'''\n",
    "\n",
    "def train(self, messages: Iterable[Message]) -> None:\n",
    "    for message in messages:\n",
    "        #Increment message counts\n",
    "        if message.is_spam:\n",
    "            self.spam_messages += 1\n",
    "        else:\n",
    "            self.ham_messages += 1\n",
    "\n",
    "        #Increment word counts\n",
    "        for token in tokenize(message.text):\n",
    "            self.tokens.add(token)\n",
    "            if message.is_spam:\n",
    "                self.token_spam_counts[token] += 1\n",
    "            else:\n",
    "                self.token_ham_counts[token] += 1\n",
    "\n",
    "'''\n",
    "    Ultimately we'll want to predict P(spam | token). As we saw earlier,  to apply Bayes's theorem we need to know P(token | spam) and P(token | ham) for each token in the vocabulary. So we'll create a \"private\" helper function to compute those:\n",
    "'''\n",
    "\n",
    "def _probabilities(self, token: str) -> Tuple[float, float]:\n",
    "    \"\"\"returns P(token | spam) and P(token | ham)\"\"\"\n",
    "    spam = self.token_spam_counts[token]\n",
    "    ham = self.token_ham_counts[token]\n",
    "\n",
    "    p_token_spam = (spam + self.k) / (self.spam_messages + 2 * self.k)\n",
    "    p_token_ham = (ham + self.k) / (self.ham_messages + 2 * self.k)\n",
    "\n",
    "    return p_token_spam, p_token_ham\n",
    "\n",
    "'''\n",
    "    Finally, we're ready to write our predict method. As mentioned earlier, rather than multiplying together lots of small probabilities, we'll instead sum up the log probabilities:\n",
    "'''\n",
    "\n",
    "def predict(self, text:str) -> float:\n",
    "    text_tokens = tokenize(text)\n",
    "    log_prob_if_spam = log_prob_if_ham = 0.0\n",
    "\n",
    "    #Iterate through each word in our vocabulary\n",
    "    for token in self.tokens:\n",
    "        prob_if_spam, prob_if_ham = self._probabilities(token)\n",
    "\n",
    "        #If *token* appears in the message,\n",
    "        #add the log probability of seeing it\n",
    "        if token in text_tokens:\n",
    "            log_prob_if_spam += math.log(prob_if_spam)\n",
    "            log_prob_if_ham += math.log(prob_if_ham)\n",
    "\n",
    "        #Otherwise add the log probability of _not_ seeing it,\n",
    "        #which is log(1-probability of seeing it)\n",
    "        else:\n",
    "            log_prob_if_spam += math.log(1.0 - prob_if_spam)\n",
    "            log_prob_if_ham += math.log(1.0 - prob_if_ham)\n",
    "        \n",
    "        prob_if_spam = math.exp(log_prob_if_spam)\n",
    "        prob_if_ham = math.exp(log_prob_if_ham)\n",
    "        return prob_if_spam / (prob_if_spam + prob_if_ham)\n",
    "\n",
    "#And now we have a classifier"
   ]
  },
  {
   "cell_type": "code",
   "execution_count": 4,
   "metadata": {},
   "outputs": [],
   "source": [
    "#Testing our Model"
   ]
  }
 ]
}